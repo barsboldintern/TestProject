{
 "cells": [
  {
   "cell_type": "code",
   "execution_count": 13,
   "metadata": {},
   "outputs": [],
   "source": [
    "import numpy as np\n",
    "import pandas as pd\n",
    "import matplotlib.pyplot as plt\n",
    "import seaborn as sns\n",
    "import matplotlib.ticker as ticker\n",
    "from sklearn.preprocessing import LabelEncoder\n",
    "from sklearn.preprocessing import StandardScaler\n",
    "from sklearn.cluster import KMeans\n",
    "pd.set_option('display.max_columns', 100)\n",
    "\n",
    "# display plots in the notebook\n",
    "%matplotlib inline\n",
    "\n",
    "# load the real estate data\n",
    "df = pd.read_csv('unegui.csv')"
   ]
  },
  {
   "cell_type": "code",
   "execution_count": 14,
   "metadata": {},
   "outputs": [
    {
     "data": {
      "text/plain": [
       "(2440781, 17)"
      ]
     },
     "execution_count": 14,
     "metadata": {},
     "output_type": "execute_result"
    }
   ],
   "source": [
    "df.shape"
   ]
  },
  {
   "cell_type": "code",
   "execution_count": 21,
   "metadata": {},
   "outputs": [
    {
     "data": {
      "text/html": [
       "<div>\n",
       "<style scoped>\n",
       "    .dataframe tbody tr th:only-of-type {\n",
       "        vertical-align: middle;\n",
       "    }\n",
       "\n",
       "    .dataframe tbody tr th {\n",
       "        vertical-align: top;\n",
       "    }\n",
       "\n",
       "    .dataframe thead th {\n",
       "        text-align: right;\n",
       "    }\n",
       "</style>\n",
       "<table border=\"1\" class=\"dataframe\">\n",
       "  <thead>\n",
       "    <tr style=\"text-align: right;\">\n",
       "      <th></th>\n",
       "      <th>id</th>\n",
       "      <th>header</th>\n",
       "      <th>location</th>\n",
       "      <th>advert_id</th>\n",
       "      <th>user_id</th>\n",
       "      <th>advert_date</th>\n",
       "      <th>advert_price</th>\n",
       "      <th>image_count</th>\n",
       "      <th>paragraphs</th>\n",
       "      <th>view_count</th>\n",
       "      <th>main_features</th>\n",
       "      <th>main_categories</th>\n",
       "      <th>latitude</th>\n",
       "      <th>longtitude</th>\n",
       "      <th>main_class</th>\n",
       "      <th>parse_id</th>\n",
       "      <th>created_date</th>\n",
       "    </tr>\n",
       "  </thead>\n",
       "  <tbody>\n",
       "    <tr>\n",
       "      <th>0</th>\n",
       "      <td>74126</td>\n",
       "      <td>Scania Чирэгч, 2014</td>\n",
       "      <td>УБ — Сүхбаатар, 13-р хороолол</td>\n",
       "      <td>7604665</td>\n",
       "      <td>15021</td>\n",
       "      <td>Нийтэлсэн: 2023-10-26 11:41</td>\n",
       "      <td>38000000.0</td>\n",
       "      <td>4</td>\n",
       "      <td>['2014 onii 2021 ond irj irsen Scania P380 zar...</td>\n",
       "      <td>Үзсэн : 76</td>\n",
       "      <td>\"\\\"\\\\\\\"{\\\\\\\\\\\\\\\"Зориулалт:\\\\\\\\\\\\\\\": \\\\\\\\\\\\\\\"Чи...</td>\n",
       "      <td>['Бүх зарууд', 'Автомашин', 'Ачааны машин, авт...</td>\n",
       "      <td>NaN</td>\n",
       "      <td>NaN</td>\n",
       "      <td>1</td>\n",
       "      <td>4e1074fd-eb93-4569-aa71-095b84f34d78</td>\n",
       "      <td>2023-11-13</td>\n",
       "    </tr>\n",
       "    <tr>\n",
       "      <th>1</th>\n",
       "      <td>74127</td>\n",
       "      <td>Lexus hs250 undurluguu</td>\n",
       "      <td>УБ — Сүхбаатар</td>\n",
       "      <td>7453057</td>\n",
       "      <td>11607</td>\n",
       "      <td>Нийтэлсэн: 2023-11-05 21:59</td>\n",
       "      <td>80000.0</td>\n",
       "      <td>1</td>\n",
       "      <td>['hereglej baisan undurluguu hyamdhan zarna']</td>\n",
       "      <td>Үзсэн : 2</td>\n",
       "      <td>\"\\\"\\\\\\\"{\\\\\\\\\\\\\\\"Төрөл:\\\\\\\\\\\\\\\": \\\\\\\\\\\\\\\"Явах э...</td>\n",
       "      <td>['Бүх зарууд', 'Автомашин', 'Авто сэлбэг, тусл...</td>\n",
       "      <td>NaN</td>\n",
       "      <td>NaN</td>\n",
       "      <td>1</td>\n",
       "      <td>4e1074fd-eb93-4569-aa71-095b84f34d78</td>\n",
       "      <td>2023-11-13</td>\n",
       "    </tr>\n",
       "    <tr>\n",
       "      <th>2</th>\n",
       "      <td>74128</td>\n",
       "      <td>Toyota Harrier, 2008/2023</td>\n",
       "      <td>УБ — Баянзүрх, Шар хад</td>\n",
       "      <td>7762437</td>\n",
       "      <td>261116</td>\n",
       "      <td>Нийтэлсэн: 2023-10-25 18:47</td>\n",
       "      <td>48500000.0</td>\n",
       "      <td>10</td>\n",
       "      <td>['? Toyota Harrier Hybrid 4WD', '✔Үйлдвэрлэгдс...</td>\n",
       "      <td>Үзсэн : 221</td>\n",
       "      <td>\"\\\"\\\\\\\"{\\\\\\\\\\\\\\\"Урьдчилсан төлбөрийн хэмжээ:\\\\...</td>\n",
       "      <td>['Бүх зарууд', 'Автомашин', 'Автомашин зарна',...</td>\n",
       "      <td>NaN</td>\n",
       "      <td>NaN</td>\n",
       "      <td>1</td>\n",
       "      <td>4e1074fd-eb93-4569-aa71-095b84f34d78</td>\n",
       "      <td>2023-11-13</td>\n",
       "    </tr>\n",
       "    <tr>\n",
       "      <th>3</th>\n",
       "      <td>74129</td>\n",
       "      <td>Toyota Sai, 2011/2017</td>\n",
       "      <td>УБ — Хан-Уул, Яармаг</td>\n",
       "      <td>7789276</td>\n",
       "      <td>3169770</td>\n",
       "      <td>Нийтэлсэн: 2023-11-04 14:24</td>\n",
       "      <td>16600000.0</td>\n",
       "      <td>5</td>\n",
       "      <td>['Хийх юм байхгүй асуудалгүй тэрэг нь байна. Ө...</td>\n",
       "      <td>Үзсэн : 143</td>\n",
       "      <td>\"\\\"\\\\\\\"{\\\\\\\\\\\\\\\"Урьдчилсан төлбөрийн хэмжээ:\\\\...</td>\n",
       "      <td>['Бүх зарууд', 'Автомашин', 'Автомашин зарна',...</td>\n",
       "      <td>NaN</td>\n",
       "      <td>NaN</td>\n",
       "      <td>1</td>\n",
       "      <td>4e1074fd-eb93-4569-aa71-095b84f34d78</td>\n",
       "      <td>2023-11-13</td>\n",
       "    </tr>\n",
       "    <tr>\n",
       "      <th>4</th>\n",
       "      <td>74130</td>\n",
       "      <td>Lexus RX, 2013/2023</td>\n",
       "      <td>УБ — Баянзүрх, Олимп хотхон</td>\n",
       "      <td>7765669</td>\n",
       "      <td>3010846</td>\n",
       "      <td>Нийтэлсэн: 2023-10-26 20:52</td>\n",
       "      <td>73000000.0</td>\n",
       "      <td>9</td>\n",
       "      <td>['Урьдчилгаа 15%-тай хүнд 60 сарын хугацаатай ...</td>\n",
       "      <td>Үзсэн : 248</td>\n",
       "      <td>\"\\\"\\\\\\\"{\\\\\\\\\\\\\\\"Мотор багтаамж:\\\\\\\\\\\\\\\": \\\\\\\\\\...</td>\n",
       "      <td>['Бүх зарууд', 'Автомашин', 'Автомашин зарна',...</td>\n",
       "      <td>NaN</td>\n",
       "      <td>NaN</td>\n",
       "      <td>1</td>\n",
       "      <td>4e1074fd-eb93-4569-aa71-095b84f34d78</td>\n",
       "      <td>2023-11-13</td>\n",
       "    </tr>\n",
       "  </tbody>\n",
       "</table>\n",
       "</div>"
      ],
      "text/plain": [
       "      id                     header                       location  advert_id  \\\n",
       "0  74126        Scania Чирэгч, 2014  УБ — Сүхбаатар, 13-р хороолол    7604665   \n",
       "1  74127     Lexus hs250 undurluguu                 УБ — Сүхбаатар    7453057   \n",
       "2  74128  Toyota Harrier, 2008/2023         УБ — Баянзүрх, Шар хад    7762437   \n",
       "3  74129      Toyota Sai, 2011/2017           УБ — Хан-Уул, Яармаг    7789276   \n",
       "4  74130        Lexus RX, 2013/2023    УБ — Баянзүрх, Олимп хотхон    7765669   \n",
       "\n",
       "   user_id                  advert_date  advert_price  image_count  \\\n",
       "0    15021  Нийтэлсэн: 2023-10-26 11:41    38000000.0            4   \n",
       "1    11607  Нийтэлсэн: 2023-11-05 21:59       80000.0            1   \n",
       "2   261116  Нийтэлсэн: 2023-10-25 18:47    48500000.0           10   \n",
       "3  3169770  Нийтэлсэн: 2023-11-04 14:24    16600000.0            5   \n",
       "4  3010846  Нийтэлсэн: 2023-10-26 20:52    73000000.0            9   \n",
       "\n",
       "                                          paragraphs   view_count  \\\n",
       "0  ['2014 onii 2021 ond irj irsen Scania P380 zar...   Үзсэн : 76   \n",
       "1      ['hereglej baisan undurluguu hyamdhan zarna']    Үзсэн : 2   \n",
       "2  ['? Toyota Harrier Hybrid 4WD', '✔Үйлдвэрлэгдс...  Үзсэн : 221   \n",
       "3  ['Хийх юм байхгүй асуудалгүй тэрэг нь байна. Ө...  Үзсэн : 143   \n",
       "4  ['Урьдчилгаа 15%-тай хүнд 60 сарын хугацаатай ...  Үзсэн : 248   \n",
       "\n",
       "                                       main_features  \\\n",
       "0  \"\\\"\\\\\\\"{\\\\\\\\\\\\\\\"Зориулалт:\\\\\\\\\\\\\\\": \\\\\\\\\\\\\\\"Чи...   \n",
       "1  \"\\\"\\\\\\\"{\\\\\\\\\\\\\\\"Төрөл:\\\\\\\\\\\\\\\": \\\\\\\\\\\\\\\"Явах э...   \n",
       "2  \"\\\"\\\\\\\"{\\\\\\\\\\\\\\\"Урьдчилсан төлбөрийн хэмжээ:\\\\...   \n",
       "3  \"\\\"\\\\\\\"{\\\\\\\\\\\\\\\"Урьдчилсан төлбөрийн хэмжээ:\\\\...   \n",
       "4  \"\\\"\\\\\\\"{\\\\\\\\\\\\\\\"Мотор багтаамж:\\\\\\\\\\\\\\\": \\\\\\\\\\...   \n",
       "\n",
       "                                     main_categories  latitude  longtitude  \\\n",
       "0  ['Бүх зарууд', 'Автомашин', 'Ачааны машин, авт...       NaN         NaN   \n",
       "1  ['Бүх зарууд', 'Автомашин', 'Авто сэлбэг, тусл...       NaN         NaN   \n",
       "2  ['Бүх зарууд', 'Автомашин', 'Автомашин зарна',...       NaN         NaN   \n",
       "3  ['Бүх зарууд', 'Автомашин', 'Автомашин зарна',...       NaN         NaN   \n",
       "4  ['Бүх зарууд', 'Автомашин', 'Автомашин зарна',...       NaN         NaN   \n",
       "\n",
       "   main_class                              parse_id created_date  \n",
       "0           1  4e1074fd-eb93-4569-aa71-095b84f34d78   2023-11-13  \n",
       "1           1  4e1074fd-eb93-4569-aa71-095b84f34d78   2023-11-13  \n",
       "2           1  4e1074fd-eb93-4569-aa71-095b84f34d78   2023-11-13  \n",
       "3           1  4e1074fd-eb93-4569-aa71-095b84f34d78   2023-11-13  \n",
       "4           1  4e1074fd-eb93-4569-aa71-095b84f34d78   2023-11-13  "
      ]
     },
     "execution_count": 21,
     "metadata": {},
     "output_type": "execute_result"
    }
   ],
   "source": [
    "df.head()"
   ]
  },
  {
   "cell_type": "code",
   "execution_count": 15,
   "metadata": {},
   "outputs": [
    {
     "data": {
      "text/plain": [
       "count                                               2440781\n",
       "unique                                                  956\n",
       "top       ['Бүх зарууд', 'Үл хөдлөх', 'Үл хөдлөх зарна',...\n",
       "freq                                                 154723\n",
       "Name: main_categories, dtype: object"
      ]
     },
     "execution_count": 15,
     "metadata": {},
     "output_type": "execute_result"
    }
   ],
   "source": [
    "df['main_categories'].describe()"
   ]
  },
  {
   "cell_type": "code",
   "execution_count": 16,
   "metadata": {},
   "outputs": [
    {
     "data": {
      "text/plain": [
       "(2440781, 17)"
      ]
     },
     "execution_count": 16,
     "metadata": {},
     "output_type": "execute_result"
    }
   ],
   "source": [
    "df.shape"
   ]
  },
  {
   "cell_type": "code",
   "execution_count": 26,
   "metadata": {},
   "outputs": [
    {
     "ename": "KeyError",
     "evalue": "\"None of [Index(['['Бүх зарууд', 'Автомашин', 'Ачааны машин, автобус, хүнд механизм', 'Хүнд механизм', 'Scania']',\\n       '['Бүх зарууд', 'Автомашин', 'Авто сэлбэг, туслах хэрэгслүүд', 'Авто сэлбэг', 'Lexus']',\\n       '['Бүх зарууд', 'Автомашин', 'Автомашин зарна', 'Toyota', 'Harrier']',\\n       '['Бүх зарууд', 'Автомашин', 'Автомашин зарна', 'Toyota', 'Sai']',\\n       '['Бүх зарууд', 'Автомашин', 'Автомашин зарна', 'Lexus', 'RX']',\\n       '['Бүх зарууд', 'Автомашин', 'Авто сэлбэг, туслах хэрэгслүүд', 'Авто сэлбэг', 'Toyota']',\\n       '['Бүх зарууд', 'Автомашин', 'Автомашин зарна', 'Toyota', 'Land Cruiser Prado']',\\n       '['Бүх зарууд', 'Автомашин', 'Автомашин зарна', 'BMW', '3-сери']',\\n       '['Бүх зарууд', 'Автомашин', 'Автомашин зарна', 'Toyota', 'Ist']',\\n       '['Бүх зарууд', 'Автомашин', 'Ачааны машин, автобус, хүнд механизм', 'Ачааны машин', 'Hino']',\\n       ...\\n       '['Бүх зарууд', 'Ажлын зар', 'Барилга, дэд бүтэц', 'Барилгын туслах']',\\n       '['Бүх зарууд', 'Ажлын зар', 'Дизайн, урлаг, уран сайхан', 'Зурагчин, зураглаач']',\\n       '['Бүх зарууд', 'Ажлын зар', 'Барилга, дэд бүтэц', 'Барилгын туслах']',\\n       '['Бүх зарууд', 'Ажлын зар', 'Барилга, дэд бүтэц', 'Сантехник, Дулаан хангамж']',\\n       '['Бүх зарууд', 'Ажлын зар', 'Үйлчилгээ', 'Цэвэрлэгээний ажилтан']',\\n       '['Бүх зарууд', 'Ажлын зар', 'Pесторан, кафе, паб', 'Угаагч']',\\n       '['Бүх зарууд', 'Ажлын зар', 'Үйлдвэрлэл', 'Гутал, цүнхний үйлдвэр']',\\n       '['Бүх зарууд', 'Ажлын зар', 'Харуул хамгаалалт', 'Хамгаалагч']',\\n       '['Бүх зарууд', 'Ажлын зар', 'Борлуулалт, худалдаа', 'Худалдааны зөвлөх']',\\n       '['Бүх зарууд', 'Ажлын зар', 'Харуул хамгаалалт', 'Зогсоолын ажилтан, манаач']'],\\n      dtype='object', length=2440781)] are in the [columns]\"",
     "output_type": "error",
     "traceback": [
      "\u001b[0;31m---------------------------------------------------------------------------\u001b[0m",
      "\u001b[0;31mKeyError\u001b[0m                                  Traceback (most recent call last)",
      "Cell \u001b[0;32mIn[26], line 1\u001b[0m\n\u001b[0;32m----> 1\u001b[0m sda \u001b[38;5;241m=\u001b[39m \u001b[43mdf\u001b[49m\u001b[43m[\u001b[49m\u001b[43mdf\u001b[49m\u001b[43m[\u001b[49m\u001b[38;5;124;43m'\u001b[39;49m\u001b[38;5;124;43mmain_categories\u001b[39;49m\u001b[38;5;124;43m'\u001b[39;49m\u001b[43m]\u001b[49m\u001b[43m]\u001b[49m\u001b[38;5;241m.\u001b[39mstr\u001b[38;5;241m.\u001b[39mstartswith(\u001b[38;5;124m'\u001b[39m\u001b[38;5;124mБүх зарууд\u001b[39m\u001b[38;5;124m'\u001b[39m, \u001b[38;5;124m'\u001b[39m\u001b[38;5;124mҮл хөдлөх\u001b[39m\u001b[38;5;124m'\u001b[39m, \u001b[38;5;124m'\u001b[39m\u001b[38;5;124mҮл хөдлөх зарна\u001b[39m\u001b[38;5;124m'\u001b[39m)\n\u001b[1;32m      2\u001b[0m sda\n",
      "File \u001b[0;32m~/Documents/And Global Intern/First Task GIt Clone/TestProject/venv/lib/python3.11/site-packages/pandas/core/frame.py:4108\u001b[0m, in \u001b[0;36mDataFrame.__getitem__\u001b[0;34m(self, key)\u001b[0m\n\u001b[1;32m   4106\u001b[0m     \u001b[38;5;28;01mif\u001b[39;00m is_iterator(key):\n\u001b[1;32m   4107\u001b[0m         key \u001b[38;5;241m=\u001b[39m \u001b[38;5;28mlist\u001b[39m(key)\n\u001b[0;32m-> 4108\u001b[0m     indexer \u001b[38;5;241m=\u001b[39m \u001b[38;5;28;43mself\u001b[39;49m\u001b[38;5;241;43m.\u001b[39;49m\u001b[43mcolumns\u001b[49m\u001b[38;5;241;43m.\u001b[39;49m\u001b[43m_get_indexer_strict\u001b[49m\u001b[43m(\u001b[49m\u001b[43mkey\u001b[49m\u001b[43m,\u001b[49m\u001b[43m \u001b[49m\u001b[38;5;124;43m\"\u001b[39;49m\u001b[38;5;124;43mcolumns\u001b[39;49m\u001b[38;5;124;43m\"\u001b[39;49m\u001b[43m)\u001b[49m[\u001b[38;5;241m1\u001b[39m]\n\u001b[1;32m   4110\u001b[0m \u001b[38;5;66;03m# take() does not accept boolean indexers\u001b[39;00m\n\u001b[1;32m   4111\u001b[0m \u001b[38;5;28;01mif\u001b[39;00m \u001b[38;5;28mgetattr\u001b[39m(indexer, \u001b[38;5;124m\"\u001b[39m\u001b[38;5;124mdtype\u001b[39m\u001b[38;5;124m\"\u001b[39m, \u001b[38;5;28;01mNone\u001b[39;00m) \u001b[38;5;241m==\u001b[39m \u001b[38;5;28mbool\u001b[39m:\n",
      "File \u001b[0;32m~/Documents/And Global Intern/First Task GIt Clone/TestProject/venv/lib/python3.11/site-packages/pandas/core/indexes/base.py:6200\u001b[0m, in \u001b[0;36mIndex._get_indexer_strict\u001b[0;34m(self, key, axis_name)\u001b[0m\n\u001b[1;32m   6197\u001b[0m \u001b[38;5;28;01melse\u001b[39;00m:\n\u001b[1;32m   6198\u001b[0m     keyarr, indexer, new_indexer \u001b[38;5;241m=\u001b[39m \u001b[38;5;28mself\u001b[39m\u001b[38;5;241m.\u001b[39m_reindex_non_unique(keyarr)\n\u001b[0;32m-> 6200\u001b[0m \u001b[38;5;28;43mself\u001b[39;49m\u001b[38;5;241;43m.\u001b[39;49m\u001b[43m_raise_if_missing\u001b[49m\u001b[43m(\u001b[49m\u001b[43mkeyarr\u001b[49m\u001b[43m,\u001b[49m\u001b[43m \u001b[49m\u001b[43mindexer\u001b[49m\u001b[43m,\u001b[49m\u001b[43m \u001b[49m\u001b[43maxis_name\u001b[49m\u001b[43m)\u001b[49m\n\u001b[1;32m   6202\u001b[0m keyarr \u001b[38;5;241m=\u001b[39m \u001b[38;5;28mself\u001b[39m\u001b[38;5;241m.\u001b[39mtake(indexer)\n\u001b[1;32m   6203\u001b[0m \u001b[38;5;28;01mif\u001b[39;00m \u001b[38;5;28misinstance\u001b[39m(key, Index):\n\u001b[1;32m   6204\u001b[0m     \u001b[38;5;66;03m# GH 42790 - Preserve name from an Index\u001b[39;00m\n",
      "File \u001b[0;32m~/Documents/And Global Intern/First Task GIt Clone/TestProject/venv/lib/python3.11/site-packages/pandas/core/indexes/base.py:6249\u001b[0m, in \u001b[0;36mIndex._raise_if_missing\u001b[0;34m(self, key, indexer, axis_name)\u001b[0m\n\u001b[1;32m   6247\u001b[0m \u001b[38;5;28;01mif\u001b[39;00m nmissing:\n\u001b[1;32m   6248\u001b[0m     \u001b[38;5;28;01mif\u001b[39;00m nmissing \u001b[38;5;241m==\u001b[39m \u001b[38;5;28mlen\u001b[39m(indexer):\n\u001b[0;32m-> 6249\u001b[0m         \u001b[38;5;28;01mraise\u001b[39;00m \u001b[38;5;167;01mKeyError\u001b[39;00m(\u001b[38;5;124mf\u001b[39m\u001b[38;5;124m\"\u001b[39m\u001b[38;5;124mNone of [\u001b[39m\u001b[38;5;132;01m{\u001b[39;00mkey\u001b[38;5;132;01m}\u001b[39;00m\u001b[38;5;124m] are in the [\u001b[39m\u001b[38;5;132;01m{\u001b[39;00maxis_name\u001b[38;5;132;01m}\u001b[39;00m\u001b[38;5;124m]\u001b[39m\u001b[38;5;124m\"\u001b[39m)\n\u001b[1;32m   6251\u001b[0m     not_found \u001b[38;5;241m=\u001b[39m \u001b[38;5;28mlist\u001b[39m(ensure_index(key)[missing_mask\u001b[38;5;241m.\u001b[39mnonzero()[\u001b[38;5;241m0\u001b[39m]]\u001b[38;5;241m.\u001b[39munique())\n\u001b[1;32m   6252\u001b[0m     \u001b[38;5;28;01mraise\u001b[39;00m \u001b[38;5;167;01mKeyError\u001b[39;00m(\u001b[38;5;124mf\u001b[39m\u001b[38;5;124m\"\u001b[39m\u001b[38;5;132;01m{\u001b[39;00mnot_found\u001b[38;5;132;01m}\u001b[39;00m\u001b[38;5;124m not in index\u001b[39m\u001b[38;5;124m\"\u001b[39m)\n",
      "\u001b[0;31mKeyError\u001b[0m: \"None of [Index(['['Бүх зарууд', 'Автомашин', 'Ачааны машин, автобус, хүнд механизм', 'Хүнд механизм', 'Scania']',\\n       '['Бүх зарууд', 'Автомашин', 'Авто сэлбэг, туслах хэрэгслүүд', 'Авто сэлбэг', 'Lexus']',\\n       '['Бүх зарууд', 'Автомашин', 'Автомашин зарна', 'Toyota', 'Harrier']',\\n       '['Бүх зарууд', 'Автомашин', 'Автомашин зарна', 'Toyota', 'Sai']',\\n       '['Бүх зарууд', 'Автомашин', 'Автомашин зарна', 'Lexus', 'RX']',\\n       '['Бүх зарууд', 'Автомашин', 'Авто сэлбэг, туслах хэрэгслүүд', 'Авто сэлбэг', 'Toyota']',\\n       '['Бүх зарууд', 'Автомашин', 'Автомашин зарна', 'Toyota', 'Land Cruiser Prado']',\\n       '['Бүх зарууд', 'Автомашин', 'Автомашин зарна', 'BMW', '3-сери']',\\n       '['Бүх зарууд', 'Автомашин', 'Автомашин зарна', 'Toyota', 'Ist']',\\n       '['Бүх зарууд', 'Автомашин', 'Ачааны машин, автобус, хүнд механизм', 'Ачааны машин', 'Hino']',\\n       ...\\n       '['Бүх зарууд', 'Ажлын зар', 'Барилга, дэд бүтэц', 'Барилгын туслах']',\\n       '['Бүх зарууд', 'Ажлын зар', 'Дизайн, урлаг, уран сайхан', 'Зурагчин, зураглаач']',\\n       '['Бүх зарууд', 'Ажлын зар', 'Барилга, дэд бүтэц', 'Барилгын туслах']',\\n       '['Бүх зарууд', 'Ажлын зар', 'Барилга, дэд бүтэц', 'Сантехник, Дулаан хангамж']',\\n       '['Бүх зарууд', 'Ажлын зар', 'Үйлчилгээ', 'Цэвэрлэгээний ажилтан']',\\n       '['Бүх зарууд', 'Ажлын зар', 'Pесторан, кафе, паб', 'Угаагч']',\\n       '['Бүх зарууд', 'Ажлын зар', 'Үйлдвэрлэл', 'Гутал, цүнхний үйлдвэр']',\\n       '['Бүх зарууд', 'Ажлын зар', 'Харуул хамгаалалт', 'Хамгаалагч']',\\n       '['Бүх зарууд', 'Ажлын зар', 'Борлуулалт, худалдаа', 'Худалдааны зөвлөх']',\\n       '['Бүх зарууд', 'Ажлын зар', 'Харуул хамгаалалт', 'Зогсоолын ажилтан, манаач']'],\\n      dtype='object', length=2440781)] are in the [columns]\""
     ]
    }
   ],
   "source": [
    "sda = df[df['main_categories']].str.startswith('Бүх зарууд', 'Үл хөдлөх', 'Үл хөдлөх зарна')\n",
    "sda"
   ]
  }
 ],
 "metadata": {
  "kernelspec": {
   "display_name": "Python 3",
   "language": "python",
   "name": "python3"
  },
  "language_info": {
   "codemirror_mode": {
    "name": "ipython",
    "version": 3
   },
   "file_extension": ".py",
   "mimetype": "text/x-python",
   "name": "python",
   "nbconvert_exporter": "python",
   "pygments_lexer": "ipython3",
   "version": "3.11.0"
  }
 },
 "nbformat": 4,
 "nbformat_minor": 2
}
