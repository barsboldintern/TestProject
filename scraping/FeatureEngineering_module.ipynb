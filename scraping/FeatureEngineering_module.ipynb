{
 "cells": [
  {
   "cell_type": "markdown",
   "metadata": {},
   "source": [
    "# This is Feature Engineering Module.\n",
    "\n",
    "* Objectives of this module includes creating new effective features based on our scraped features"
   ]
  },
  {
   "cell_type": "code",
   "execution_count": 1248,
   "metadata": {},
   "outputs": [],
   "source": [
    "import numpy as np\n",
    "import pandas as pd\n",
    "import matplotlib.pyplot as plt\n",
    "import seaborn as sns\n",
    "\n",
    "# view additional data frame columns\n",
    "pd.set_option('display.max_columns', 100)\n",
    "\n",
    "# display plots in the notebook\n",
    "%matplotlib inline\n",
    "\n",
    "# load the cleaned dataset\n",
    "df = pd.read_csv('cleaned_data.csv')"
   ]
  },
  {
   "cell_type": "markdown",
   "metadata": {},
   "source": [
    "## Developing new features and consolidating sparse classes into a one single classes."
   ]
  },
  {
   "cell_type": "code",
   "execution_count": 1249,
   "metadata": {},
   "outputs": [
    {
     "data": {
      "text/plain": [
       "count    5276.000000\n",
       "mean        7.496399\n",
       "std         9.062635\n",
       "min        -1.000000\n",
       "25%         1.000000\n",
       "50%         5.000000\n",
       "75%        10.000000\n",
       "max        44.000000\n",
       "Name: Нас, dtype: float64"
      ]
     },
     "execution_count": 1249,
     "metadata": {},
     "output_type": "execute_result"
    }
   ],
   "source": [
    "# Use arithmetic to construct new features \n",
    "df['Нас'] = 2024 - df['Ашиглалтанд орсон он:']\n",
    "\n",
    "# Check for improper data values\n",
    "df['Нас'].describe()"
   ]
  },
  {
   "cell_type": "code",
   "execution_count": 1250,
   "metadata": {},
   "outputs": [
    {
     "data": {
      "text/plain": [
       "39"
      ]
     },
     "execution_count": 1250,
     "metadata": {},
     "output_type": "execute_result"
    }
   ],
   "source": [
    "# Determine the number of observations that have descrepancies\n",
    "df['Нас'].lt(0).sum()"
   ]
  },
  {
   "cell_type": "code",
   "execution_count": 1251,
   "metadata": {},
   "outputs": [
    {
     "data": {
      "text/html": [
       "<div>\n",
       "<style scoped>\n",
       "    .dataframe tbody tr th:only-of-type {\n",
       "        vertical-align: middle;\n",
       "    }\n",
       "\n",
       "    .dataframe tbody tr th {\n",
       "        vertical-align: top;\n",
       "    }\n",
       "\n",
       "    .dataframe thead th {\n",
       "        text-align: right;\n",
       "    }\n",
       "</style>\n",
       "<table border=\"1\" class=\"dataframe\">\n",
       "  <thead>\n",
       "    <tr style=\"text-align: right;\">\n",
       "      <th></th>\n",
       "      <th>үнэ</th>\n",
       "      <th>хаяг</th>\n",
       "      <th>Шал:</th>\n",
       "      <th>Тагт:</th>\n",
       "      <th>Ашиглалтанд орсон он:</th>\n",
       "      <th>Гараж:</th>\n",
       "      <th>Цонх:</th>\n",
       "      <th>Барилгын давхар:</th>\n",
       "      <th>Хаалга:</th>\n",
       "      <th>Талбай:</th>\n",
       "      <th>Хэдэн давхарт:</th>\n",
       "      <th>Лизингээр авах боломж:</th>\n",
       "      <th>Цонхны тоо:</th>\n",
       "      <th>Барилгын явц:</th>\n",
       "      <th>Нас</th>\n",
       "    </tr>\n",
       "  </thead>\n",
       "  <tbody>\n",
       "    <tr>\n",
       "      <th>0</th>\n",
       "      <td>84.000</td>\n",
       "      <td>Хан-Уул, Viva city</td>\n",
       "      <td>Паркет</td>\n",
       "      <td>0</td>\n",
       "      <td>2013</td>\n",
       "      <td>0</td>\n",
       "      <td>Вакум</td>\n",
       "      <td>5</td>\n",
       "      <td>Бүргэд</td>\n",
       "      <td>30.50</td>\n",
       "      <td>5</td>\n",
       "      <td>0</td>\n",
       "      <td>2</td>\n",
       "      <td>1</td>\n",
       "      <td>11</td>\n",
       "    </tr>\n",
       "    <tr>\n",
       "      <th>1</th>\n",
       "      <td>115.000</td>\n",
       "      <td>Хан-Уул, 19-р хороолол</td>\n",
       "      <td>Паркет</td>\n",
       "      <td>1</td>\n",
       "      <td>1990</td>\n",
       "      <td>0</td>\n",
       "      <td>Вакум</td>\n",
       "      <td>5</td>\n",
       "      <td>Бүргэд</td>\n",
       "      <td>16.00</td>\n",
       "      <td>5</td>\n",
       "      <td>0</td>\n",
       "      <td>2</td>\n",
       "      <td>1</td>\n",
       "      <td>34</td>\n",
       "    </tr>\n",
       "    <tr>\n",
       "      <th>2</th>\n",
       "      <td>510.000</td>\n",
       "      <td>Баянзүрх, Чингис зочид буудал</td>\n",
       "      <td>Паркет</td>\n",
       "      <td>1</td>\n",
       "      <td>2010</td>\n",
       "      <td>0</td>\n",
       "      <td>Вакум</td>\n",
       "      <td>10</td>\n",
       "      <td>Бүргэд</td>\n",
       "      <td>150.00</td>\n",
       "      <td>10</td>\n",
       "      <td>0</td>\n",
       "      <td>5</td>\n",
       "      <td>1</td>\n",
       "      <td>14</td>\n",
       "    </tr>\n",
       "    <tr>\n",
       "      <th>3</th>\n",
       "      <td>107.946</td>\n",
       "      <td>Хан-Уул, Хан-Уул, Хороо 16</td>\n",
       "      <td>Паркет</td>\n",
       "      <td>0</td>\n",
       "      <td>2021</td>\n",
       "      <td>0</td>\n",
       "      <td>Вакум</td>\n",
       "      <td>12</td>\n",
       "      <td>Вакум</td>\n",
       "      <td>39.98</td>\n",
       "      <td>2</td>\n",
       "      <td>0</td>\n",
       "      <td>2</td>\n",
       "      <td>1</td>\n",
       "      <td>3</td>\n",
       "    </tr>\n",
       "    <tr>\n",
       "      <th>4</th>\n",
       "      <td>521.370</td>\n",
       "      <td>Баянзүрх, Баянзүрх, Хороо 26</td>\n",
       "      <td>Паркет</td>\n",
       "      <td>2</td>\n",
       "      <td>2016</td>\n",
       "      <td>1</td>\n",
       "      <td>Вакум</td>\n",
       "      <td>16</td>\n",
       "      <td>Бүргэд</td>\n",
       "      <td>115.86</td>\n",
       "      <td>7</td>\n",
       "      <td>0</td>\n",
       "      <td>5</td>\n",
       "      <td>1</td>\n",
       "      <td>8</td>\n",
       "    </tr>\n",
       "  </tbody>\n",
       "</table>\n",
       "</div>"
      ],
      "text/plain": [
       "       үнэ                           хаяг    Шал:  Тагт:  \\\n",
       "0   84.000             Хан-Уул, Viva city  Паркет      0   \n",
       "1  115.000         Хан-Уул, 19-р хороолол  Паркет      1   \n",
       "2  510.000  Баянзүрх, Чингис зочид буудал  Паркет      1   \n",
       "3  107.946     Хан-Уул, Хан-Уул, Хороо 16  Паркет      0   \n",
       "4  521.370   Баянзүрх, Баянзүрх, Хороо 26  Паркет      2   \n",
       "\n",
       "   Ашиглалтанд орсон он:  Гараж:  Цонх:  Барилгын давхар: Хаалга:  Талбай:  \\\n",
       "0                   2013       0  Вакум                 5  Бүргэд    30.50   \n",
       "1                   1990       0  Вакум                 5  Бүргэд    16.00   \n",
       "2                   2010       0  Вакум                10  Бүргэд   150.00   \n",
       "3                   2021       0  Вакум                12   Вакум    39.98   \n",
       "4                   2016       1  Вакум                16  Бүргэд   115.86   \n",
       "\n",
       "   Хэдэн давхарт:  Лизингээр авах боломж:  Цонхны тоо:  Барилгын явц:  Нас  \n",
       "0               5                       0            2              1   11  \n",
       "1               5                       0            2              1   34  \n",
       "2              10                       0            5              1   14  \n",
       "3               2                       0            2              1    3  \n",
       "4               7                       0            5              1    8  "
      ]
     },
     "execution_count": 1251,
     "metadata": {},
     "output_type": "execute_result"
    }
   ],
   "source": [
    "# Remove observations that are negative in property age\n",
    "df = df[df['Нас'] >= 0]\n",
    "\n",
    "# review the remaining observations\n",
    "df.head()"
   ]
  },
  {
   "cell_type": "code",
   "execution_count": 1252,
   "metadata": {},
   "outputs": [
    {
     "data": {
      "text/plain": [
       "count    5237.000000\n",
       "mean      298.195348\n",
       "std       183.331227\n",
       "min        45.000000\n",
       "25%       160.000000\n",
       "50%       236.900000\n",
       "75%       395.000000\n",
       "max       880.000000\n",
       "Name: үнэ, dtype: float64"
      ]
     },
     "execution_count": 1252,
     "metadata": {},
     "output_type": "execute_result"
    }
   ],
   "source": [
    "df['үнэ'].describe()"
   ]
  },
  {
   "cell_type": "code",
   "execution_count": 1253,
   "metadata": {},
   "outputs": [
    {
     "data": {
      "text/plain": [
       "(0, 16)"
      ]
     },
     "execution_count": 1253,
     "metadata": {},
     "output_type": "execute_result"
    }
   ],
   "source": [
    "# Let's create a new feature called \"District\", in order to have an easier to work with data.\n",
    "\n",
    "# Extract district by splitting the address on the comma and taking the first part\n",
    "df['Дүүрэг'] = df['хаяг'].str.split(',', expand=True)[0].str.strip()\n",
    "df = df[df['Дүүрэг'].str.startswith('УБ —')]\n",
    "df['Дүүрэг'] = df['Дүүрэг'].str.replace('УБ - ', '')\n",
    "\n",
    "df['хаяг'] = df['хаяг'].str.split(',', n=1).str[1].str.strip()\n",
    "\n",
    "df['хаяг'] = df['хаяг'].fillna(0)\n",
    "df.shape\n"
   ]
  },
  {
   "cell_type": "code",
   "execution_count": 1254,
   "metadata": {},
   "outputs": [
    {
     "data": {
      "text/plain": [
       "Series([], Name: count, dtype: int64)"
      ]
     },
     "execution_count": 1254,
     "metadata": {},
     "output_type": "execute_result"
    }
   ],
   "source": [
    "df['Хаалга:'].value_counts()\n"
   ]
  },
  {
   "cell_type": "code",
   "execution_count": 1255,
   "metadata": {},
   "outputs": [
    {
     "name": "stderr",
     "output_type": "stream",
     "text": [
      "/var/folders/k5/d_ccjpd550q3sskv2xjl_mxc0000gn/T/ipykernel_3435/4130607074.py:2: FutureWarning: A value is trying to be set on a copy of a DataFrame or Series through chained assignment using an inplace method.\n",
      "The behavior will change in pandas 3.0. This inplace method will never work because the intermediate object on which we are setting values always behaves as a copy.\n",
      "\n",
      "For example, when doing 'df[col].method(value, inplace=True)', try using 'df.method({col: value}, inplace=True)' or df[col] = df[col].method(value) instead, to perform the operation inplace on the original object.\n",
      "\n",
      "\n",
      "  df['Хаалга:'].replace(to_replace=['Төмөр вакум', 'Төмөр'], value='Төмөр', inplace=True)\n"
     ]
    },
    {
     "data": {
      "text/plain": [
       "Series([], Name: count, dtype: int64)"
      ]
     },
     "execution_count": 1255,
     "metadata": {},
     "output_type": "execute_result"
    }
   ],
   "source": [
    "#consolidate sparse classes into a one class\n",
    "df['Хаалга:'].replace(to_replace=['Төмөр вакум', 'Төмөр'], value='Төмөр', inplace=True)\n",
    "df['Хаалга:'].value_counts()\n"
   ]
  },
  {
   "cell_type": "code",
   "execution_count": 1256,
   "metadata": {},
   "outputs": [
    {
     "name": "stderr",
     "output_type": "stream",
     "text": [
      "/var/folders/k5/d_ccjpd550q3sskv2xjl_mxc0000gn/T/ipykernel_3435/702916260.py:6: FutureWarning: A value is trying to be set on a copy of a DataFrame or Series through chained assignment using an inplace method.\n",
      "The behavior will change in pandas 3.0. This inplace method will never work because the intermediate object on which we are setting values always behaves as a copy.\n",
      "\n",
      "For example, when doing 'df[col].method(value, inplace=True)', try using 'df.method({col: value}, inplace=True)' or df[col] = df[col].method(value) instead, to perform the operation inplace on the original object.\n",
      "\n",
      "\n",
      "  df['Хаалга:'].replace(other_roofs, 'Бусад', inplace=True)\n"
     ]
    },
    {
     "data": {
      "text/plain": [
       "Series([], Name: count, dtype: int64)"
      ]
     },
     "execution_count": 1256,
     "metadata": {},
     "output_type": "execute_result"
    }
   ],
   "source": [
    "#list classes to be replaced as other\n",
    "\n",
    "other_roofs = ['Мод', 'Вакум']\n",
    "\n",
    "# consolidate into the 'Other' class\n",
    "df['Хаалга:'].replace(other_roofs, 'Бусад', inplace=True)\n",
    "df['Хаалга:'].value_counts()\n"
   ]
  },
  {
   "cell_type": "code",
   "execution_count": 1257,
   "metadata": {},
   "outputs": [
    {
     "data": {
      "text/plain": [
       "Series([], Name: count, dtype: int64)"
      ]
     },
     "execution_count": 1257,
     "metadata": {},
     "output_type": "execute_result"
    }
   ],
   "source": [
    "df['Шал:'].value_counts()"
   ]
  },
  {
   "cell_type": "code",
   "execution_count": 1258,
   "metadata": {},
   "outputs": [
    {
     "name": "stderr",
     "output_type": "stream",
     "text": [
      "/var/folders/k5/d_ccjpd550q3sskv2xjl_mxc0000gn/T/ipykernel_3435/3590597469.py:4: FutureWarning: A value is trying to be set on a copy of a DataFrame or Series through chained assignment using an inplace method.\n",
      "The behavior will change in pandas 3.0. This inplace method will never work because the intermediate object on which we are setting values always behaves as a copy.\n",
      "\n",
      "For example, when doing 'df[col].method(value, inplace=True)', try using 'df.method({col: value}, inplace=True)' or df[col] = df[col].method(value) instead, to perform the operation inplace on the original object.\n",
      "\n",
      "\n",
      "  df['Шал:'].replace(other_windows, 'Бусад', inplace=True)\n"
     ]
    },
    {
     "data": {
      "text/plain": [
       "Series([], Name: count, dtype: int64)"
      ]
     },
     "execution_count": 1258,
     "metadata": {},
     "output_type": "execute_result"
    }
   ],
   "source": [
    "other_windows = ['Ламинат', 'Мод', 'Цемент', 'Плита', 'Чулуу']\n",
    "\n",
    "# consolidate into the 'Other' class\n",
    "df['Шал:'].replace(other_windows, 'Бусад', inplace=True)\n",
    "df['Шал:'].value_counts()\n"
   ]
  },
  {
   "cell_type": "code",
   "execution_count": 1259,
   "metadata": {},
   "outputs": [
    {
     "data": {
      "text/plain": [
       "Series([], Name: count, dtype: int64)"
      ]
     },
     "execution_count": 1259,
     "metadata": {},
     "output_type": "execute_result"
    }
   ],
   "source": [
    "df['Цонх:'].value_counts()"
   ]
  },
  {
   "cell_type": "code",
   "execution_count": 1260,
   "metadata": {},
   "outputs": [
    {
     "name": "stderr",
     "output_type": "stream",
     "text": [
      "/var/folders/k5/d_ccjpd550q3sskv2xjl_mxc0000gn/T/ipykernel_3435/185545625.py:4: FutureWarning: A value is trying to be set on a copy of a DataFrame or Series through chained assignment using an inplace method.\n",
      "The behavior will change in pandas 3.0. This inplace method will never work because the intermediate object on which we are setting values always behaves as a copy.\n",
      "\n",
      "For example, when doing 'df[col].method(value, inplace=True)', try using 'df.method({col: value}, inplace=True)' or df[col] = df[col].method(value) instead, to perform the operation inplace on the original object.\n",
      "\n",
      "\n",
      "  df['Цонх:'].replace(other_windows, 'Бусад', inplace=True)\n"
     ]
    },
    {
     "data": {
      "text/plain": [
       "Series([], Name: count, dtype: int64)"
      ]
     },
     "execution_count": 1260,
     "metadata": {},
     "output_type": "execute_result"
    }
   ],
   "source": [
    "other_windows = ['Төмөр вакум', 'Модон вакум', 'Мод']\n",
    "\n",
    "# consolidate into the 'Other' class\n",
    "df['Цонх:'].replace(other_windows, 'Бусад', inplace=True)\n",
    "df['Цонх:'].value_counts()"
   ]
  },
  {
   "cell_type": "code",
   "execution_count": 1261,
   "metadata": {},
   "outputs": [
    {
     "data": {
      "text/plain": [
       "count    0.0\n",
       "mean     NaN\n",
       "std      NaN\n",
       "min      NaN\n",
       "25%      NaN\n",
       "50%      NaN\n",
       "75%      NaN\n",
       "max      NaN\n",
       "Name: Цонхны тоо:, dtype: float64"
      ]
     },
     "execution_count": 1261,
     "metadata": {},
     "output_type": "execute_result"
    }
   ],
   "source": [
    "df['Цонхны тоо:'].describe()"
   ]
  },
  {
   "cell_type": "markdown",
   "metadata": {},
   "source": [
    "## Remove Unused\n",
    "\n",
    "Remove unused or redundant columns from the table"
   ]
  },
  {
   "cell_type": "markdown",
   "metadata": {},
   "source": [
    "* Now given that we've created a new Property age feature we can remove property year feature."
   ]
  },
  {
   "cell_type": "code",
   "execution_count": 1262,
   "metadata": {},
   "outputs": [
    {
     "data": {
      "text/html": [
       "<div>\n",
       "<style scoped>\n",
       "    .dataframe tbody tr th:only-of-type {\n",
       "        vertical-align: middle;\n",
       "    }\n",
       "\n",
       "    .dataframe tbody tr th {\n",
       "        vertical-align: top;\n",
       "    }\n",
       "\n",
       "    .dataframe thead th {\n",
       "        text-align: right;\n",
       "    }\n",
       "</style>\n",
       "<table border=\"1\" class=\"dataframe\">\n",
       "  <thead>\n",
       "    <tr style=\"text-align: right;\">\n",
       "      <th></th>\n",
       "      <th>үнэ</th>\n",
       "      <th>хаяг</th>\n",
       "      <th>Шал:</th>\n",
       "      <th>Тагт:</th>\n",
       "      <th>Гараж:</th>\n",
       "      <th>Цонх:</th>\n",
       "      <th>Барилгын давхар:</th>\n",
       "      <th>Хаалга:</th>\n",
       "      <th>Талбай:</th>\n",
       "      <th>Хэдэн давхарт:</th>\n",
       "      <th>Лизингээр авах боломж:</th>\n",
       "      <th>Цонхны тоо:</th>\n",
       "      <th>Барилгын явц:</th>\n",
       "      <th>Нас</th>\n",
       "      <th>Дүүрэг</th>\n",
       "    </tr>\n",
       "  </thead>\n",
       "  <tbody>\n",
       "  </tbody>\n",
       "</table>\n",
       "</div>"
      ],
      "text/plain": [
       "Empty DataFrame\n",
       "Columns: [үнэ, хаяг, Шал:, Тагт:, Гараж:, Цонх:, Барилгын давхар:, Хаалга:, Талбай:, Хэдэн давхарт:, Лизингээр авах боломж:, Цонхны тоо:, Барилгын явц:, Нас, Дүүрэг]\n",
       "Index: []"
      ]
     },
     "execution_count": 1262,
     "metadata": {},
     "output_type": "execute_result"
    }
   ],
   "source": [
    "df = df.drop(columns=['Ашиглалтанд орсон он:'])\n",
    "df.head()"
   ]
  },
  {
   "cell_type": "code",
   "execution_count": 1263,
   "metadata": {},
   "outputs": [
    {
     "data": {
      "text/plain": [
       "(0, 15)"
      ]
     },
     "execution_count": 1263,
     "metadata": {},
     "output_type": "execute_result"
    }
   ],
   "source": [
    "df.shape"
   ]
  },
  {
   "cell_type": "code",
   "execution_count": 1264,
   "metadata": {},
   "outputs": [
    {
     "data": {
      "text/plain": [
       "(0, 15)"
      ]
     },
     "execution_count": 1264,
     "metadata": {},
     "output_type": "execute_result"
    }
   ],
   "source": [
    "hanuul = df[df['Дүүрэг'] == 'УБ — Хан-Уул']\n",
    "\n",
    "# Calculate the mean prices for each address\n",
    "mean_prices = hanuul.groupby('хаяг')['үнэ'].mean().reset_index()\n",
    "mean_prices.columns = ['Address', 'MeanPrice']\n",
    "\n",
    "# Sort the data for better visualization\n",
    "mean_prices = mean_prices.sort_values(by='MeanPrice', ascending=False)\n",
    "hanuul.shape"
   ]
  },
  {
   "cell_type": "code",
   "execution_count": 1265,
   "metadata": {},
   "outputs": [
    {
     "data": {
      "image/png": "[encoded data removed]",
      "text/plain": [
       "<Figure size 1400x800 with 1 Axes>"
      ]
     },
     "metadata": {},
     "output_type": "display_data"
    }
   ],
   "source": [
    "# Set the figure size for better readability\n",
    "plt.figure(figsize=(14, 8))\n",
    "\n",
    "# Create the bar plot\n",
    "sns.barplot(x='Address', y='MeanPrice', data=mean_prices)\n",
    "\n",
    "# Rotate the x labels for better readability\n",
    "plt.xticks(rotation=90)\n",
    "\n",
    "# Set the title and labels\n",
    "plt.title('Mean Prices by Address')\n",
    "plt.xlabel('Address')\n",
    "plt.ylabel('Mean Price')\n",
    "\n",
    "# Display the plot\n",
    "plt.show()"
   ]
  },
  {
   "cell_type": "code",
   "execution_count": 1266,
   "metadata": {},
   "outputs": [
    {
     "ename": "ValueError",
     "evalue": "bins must increase monotonically.",
     "output_type": "error",
     "traceback": [
      "\u001b[0;31m---------------------------------------------------------------------------\u001b[0m",
      "\u001b[0;31mValueError\u001b[0m                                Traceback (most recent call last)",
      "Cell \u001b[0;32mIn[1266], line 4\u001b[0m\n\u001b[1;32m      1\u001b[0m bin_edges \u001b[38;5;241m=\u001b[39m [mean_prices[\u001b[38;5;124m'\u001b[39m\u001b[38;5;124mMeanPrice\u001b[39m\u001b[38;5;124m'\u001b[39m]\u001b[38;5;241m.\u001b[39mmin(), mean_prices[\u001b[38;5;124m'\u001b[39m\u001b[38;5;124mMeanPrice\u001b[39m\u001b[38;5;124m'\u001b[39m]\u001b[38;5;241m.\u001b[39mquantile(\u001b[38;5;241m0.25\u001b[39m), mean_prices[\u001b[38;5;124m'\u001b[39m\u001b[38;5;124mMeanPrice\u001b[39m\u001b[38;5;124m'\u001b[39m]\u001b[38;5;241m.\u001b[39mquantile(\u001b[38;5;241m0.75\u001b[39m), mean_prices[\u001b[38;5;124m'\u001b[39m\u001b[38;5;124mMeanPrice\u001b[39m\u001b[38;5;124m'\u001b[39m]\u001b[38;5;241m.\u001b[39mmax()]\n\u001b[1;32m      3\u001b[0m \u001b[38;5;66;03m# Cut the data into three bins based on the custom bin edges\u001b[39;00m\n\u001b[0;32m----> 4\u001b[0m mean_prices[\u001b[38;5;124m'\u001b[39m\u001b[38;5;124mCategory\u001b[39m\u001b[38;5;124m'\u001b[39m] \u001b[38;5;241m=\u001b[39m \u001b[43mpd\u001b[49m\u001b[38;5;241;43m.\u001b[39;49m\u001b[43mcut\u001b[49m\u001b[43m(\u001b[49m\u001b[43mmean_prices\u001b[49m\u001b[43m[\u001b[49m\u001b[38;5;124;43m'\u001b[39;49m\u001b[38;5;124;43mMeanPrice\u001b[39;49m\u001b[38;5;124;43m'\u001b[39;49m\u001b[43m]\u001b[49m\u001b[43m,\u001b[49m\u001b[43m \u001b[49m\u001b[43mbins\u001b[49m\u001b[38;5;241;43m=\u001b[39;49m\u001b[43mbin_edges\u001b[49m\u001b[43m,\u001b[49m\u001b[43m \u001b[49m\u001b[43mlabels\u001b[49m\u001b[38;5;241;43m=\u001b[39;49m\u001b[43m[\u001b[49m\u001b[38;5;124;43m'\u001b[39;49m\u001b[38;5;124;43mLow\u001b[39;49m\u001b[38;5;124;43m'\u001b[39;49m\u001b[43m,\u001b[49m\u001b[43m \u001b[49m\u001b[38;5;124;43m'\u001b[39;49m\u001b[38;5;124;43mMedium\u001b[39;49m\u001b[38;5;124;43m'\u001b[39;49m\u001b[43m,\u001b[49m\u001b[43m \u001b[49m\u001b[38;5;124;43m'\u001b[39;49m\u001b[38;5;124;43mHigh\u001b[39;49m\u001b[38;5;124;43m'\u001b[39;49m\u001b[43m]\u001b[49m\u001b[43m,\u001b[49m\u001b[43m \u001b[49m\u001b[43minclude_lowest\u001b[49m\u001b[38;5;241;43m=\u001b[39;49m\u001b[38;5;28;43;01mTrue\u001b[39;49;00m\u001b[43m)\u001b[49m\n\u001b[1;32m      6\u001b[0m \u001b[38;5;66;03m# Set the categories for the 'Category' column in mean_prices\u001b[39;00m\n\u001b[1;32m      7\u001b[0m mean_prices[\u001b[38;5;124m'\u001b[39m\u001b[38;5;124mCategory\u001b[39m\u001b[38;5;124m'\u001b[39m] \u001b[38;5;241m=\u001b[39m mean_prices[\u001b[38;5;124m'\u001b[39m\u001b[38;5;124mCategory\u001b[39m\u001b[38;5;124m'\u001b[39m]\u001b[38;5;241m.\u001b[39mcat\u001b[38;5;241m.\u001b[39mset_categories([\u001b[38;5;124m'\u001b[39m\u001b[38;5;124mLow\u001b[39m\u001b[38;5;124m'\u001b[39m, \u001b[38;5;124m'\u001b[39m\u001b[38;5;124mMedium\u001b[39m\u001b[38;5;124m'\u001b[39m, \u001b[38;5;124m'\u001b[39m\u001b[38;5;124mHigh\u001b[39m\u001b[38;5;124m'\u001b[39m, \u001b[38;5;124m'\u001b[39m\u001b[38;5;124mNot Khan-Uul\u001b[39m\u001b[38;5;124m'\u001b[39m])\n",
      "File \u001b[0;32m~/Documents/And Global Intern/First Task GIt Clone/TestProject/venv/lib/python3.11/site-packages/pandas/core/reshape/tile.py:255\u001b[0m, in \u001b[0;36mcut\u001b[0;34m(x, bins, right, labels, retbins, precision, include_lowest, duplicates, ordered)\u001b[0m\n\u001b[1;32m    253\u001b[0m     bins \u001b[38;5;241m=\u001b[39m Index(bins)\n\u001b[1;32m    254\u001b[0m     \u001b[38;5;28;01mif\u001b[39;00m \u001b[38;5;129;01mnot\u001b[39;00m bins\u001b[38;5;241m.\u001b[39mis_monotonic_increasing:\n\u001b[0;32m--> 255\u001b[0m         \u001b[38;5;28;01mraise\u001b[39;00m \u001b[38;5;167;01mValueError\u001b[39;00m(\u001b[38;5;124m\"\u001b[39m\u001b[38;5;124mbins must increase monotonically.\u001b[39m\u001b[38;5;124m\"\u001b[39m)\n\u001b[1;32m    257\u001b[0m fac, bins \u001b[38;5;241m=\u001b[39m _bins_to_cuts(\n\u001b[1;32m    258\u001b[0m     x_idx,\n\u001b[1;32m    259\u001b[0m     bins,\n\u001b[0;32m   (...)\u001b[0m\n\u001b[1;32m    265\u001b[0m     ordered\u001b[38;5;241m=\u001b[39mordered,\n\u001b[1;32m    266\u001b[0m )\n\u001b[1;32m    268\u001b[0m \u001b[38;5;28;01mreturn\u001b[39;00m _postprocess_for_cut(fac, bins, retbins, original)\n",
      "\u001b[0;31mValueError\u001b[0m: bins must increase monotonically."
     ]
    }
   ],
   "source": [
    "bin_edges = [mean_prices['MeanPrice'].min(), mean_prices['MeanPrice'].quantile(0.25), mean_prices['MeanPrice'].quantile(0.75), mean_prices['MeanPrice'].max()]\n",
    "\n",
    "# Cut the data into three bins based on the custom bin edges\n",
    "mean_prices['Category'] = pd.cut(mean_prices['MeanPrice'], bins=bin_edges, labels=['Low', 'Medium', 'High'], include_lowest=True)\n",
    "\n",
    "# Set the categories for the 'Category' column in mean_prices\n",
    "mean_prices['Category'] = mean_prices['Category'].cat.set_categories(['Low', 'Medium', 'High', 'Not Khan-Uul'])\n",
    "\n",
    "\n",
    "# Plot the categorized data\n",
    "plt.figure(figsize=(14, 8))\n",
    "\n",
    "# Create the bar plot with colors based on categories\n",
    "sns.barplot(x='Address', y='MeanPrice', hue='Category', data=mean_prices, dodge=False, palette='viridis')\n",
    "\n",
    "# Rotate the x labels for better readability\n",
    "plt.xticks(rotation=90)\n",
    "\n",
    "# Set the title and labels\n",
    "plt.title('Mean Prices by Address with Categories')\n",
    "plt.xlabel('Address')\n",
    "plt.ylabel('Mean Price')\n",
    "\n",
    "# Display the legend\n",
    "plt.legend(title='Category')\n",
    "\n",
    "# Display the plot\n",
    "plt.show()"
   ]
  },
  {
   "cell_type": "code",
   "execution_count": null,
   "metadata": {},
   "outputs": [
    {
     "data": {
      "text/plain": [
       "(5237, 15)"
      ]
     },
     "execution_count": 1239,
     "metadata": {},
     "output_type": "execute_result"
    }
   ],
   "source": [
    "df.shape"
   ]
  },
  {
   "cell_type": "code",
   "execution_count": null,
   "metadata": {},
   "outputs": [
    {
     "data": {
      "text/html": [
       "<div>\n",
       "<style scoped>\n",
       "    .dataframe tbody tr th:only-of-type {\n",
       "        vertical-align: middle;\n",
       "    }\n",
       "\n",
       "    .dataframe tbody tr th {\n",
       "        vertical-align: top;\n",
       "    }\n",
       "\n",
       "    .dataframe thead th {\n",
       "        text-align: right;\n",
       "    }\n",
       "</style>\n",
       "<table border=\"1\" class=\"dataframe\">\n",
       "  <thead>\n",
       "    <tr style=\"text-align: right;\">\n",
       "      <th></th>\n",
       "      <th>үнэ</th>\n",
       "      <th>хаяг</th>\n",
       "      <th>Шал:</th>\n",
       "      <th>Тагт:</th>\n",
       "      <th>Гараж:</th>\n",
       "      <th>Цонх:</th>\n",
       "      <th>Барилгын давхар:</th>\n",
       "      <th>Хаалга:</th>\n",
       "      <th>Талбай:</th>\n",
       "      <th>Хэдэн давхарт:</th>\n",
       "      <th>Лизингээр авах боломж:</th>\n",
       "      <th>Цонхны тоо:</th>\n",
       "      <th>Барилгын явц:</th>\n",
       "      <th>Нас</th>\n",
       "      <th>Дүүрэг</th>\n",
       "    </tr>\n",
       "  </thead>\n",
       "  <tbody>\n",
       "    <tr>\n",
       "      <th>0</th>\n",
       "      <td>84.000</td>\n",
       "      <td>Viva city</td>\n",
       "      <td>Паркет</td>\n",
       "      <td>0</td>\n",
       "      <td>0</td>\n",
       "      <td>Вакум</td>\n",
       "      <td>5</td>\n",
       "      <td>Бүргэд</td>\n",
       "      <td>30.50</td>\n",
       "      <td>5</td>\n",
       "      <td>0</td>\n",
       "      <td>2</td>\n",
       "      <td>1</td>\n",
       "      <td>11</td>\n",
       "      <td>УБ — Хан-Уул</td>\n",
       "    </tr>\n",
       "    <tr>\n",
       "      <th>1</th>\n",
       "      <td>115.000</td>\n",
       "      <td>19-р хороолол</td>\n",
       "      <td>Паркет</td>\n",
       "      <td>1</td>\n",
       "      <td>0</td>\n",
       "      <td>Вакум</td>\n",
       "      <td>5</td>\n",
       "      <td>Бүргэд</td>\n",
       "      <td>16.00</td>\n",
       "      <td>5</td>\n",
       "      <td>0</td>\n",
       "      <td>2</td>\n",
       "      <td>1</td>\n",
       "      <td>34</td>\n",
       "      <td>УБ — Хан-Уул</td>\n",
       "    </tr>\n",
       "    <tr>\n",
       "      <th>2</th>\n",
       "      <td>510.000</td>\n",
       "      <td>Чингис зочид буудал</td>\n",
       "      <td>Паркет</td>\n",
       "      <td>1</td>\n",
       "      <td>0</td>\n",
       "      <td>Вакум</td>\n",
       "      <td>10</td>\n",
       "      <td>Бүргэд</td>\n",
       "      <td>150.00</td>\n",
       "      <td>10</td>\n",
       "      <td>0</td>\n",
       "      <td>5</td>\n",
       "      <td>1</td>\n",
       "      <td>14</td>\n",
       "      <td>УБ — Баянзүрх</td>\n",
       "    </tr>\n",
       "    <tr>\n",
       "      <th>3</th>\n",
       "      <td>107.946</td>\n",
       "      <td>Хан-Уул, Хороо 16</td>\n",
       "      <td>Паркет</td>\n",
       "      <td>0</td>\n",
       "      <td>0</td>\n",
       "      <td>Вакум</td>\n",
       "      <td>12</td>\n",
       "      <td>Бусад</td>\n",
       "      <td>39.98</td>\n",
       "      <td>2</td>\n",
       "      <td>0</td>\n",
       "      <td>2</td>\n",
       "      <td>1</td>\n",
       "      <td>3</td>\n",
       "      <td>УБ — Хан-Уул</td>\n",
       "    </tr>\n",
       "    <tr>\n",
       "      <th>4</th>\n",
       "      <td>521.370</td>\n",
       "      <td>Баянзүрх, Хороо 26</td>\n",
       "      <td>Паркет</td>\n",
       "      <td>2</td>\n",
       "      <td>1</td>\n",
       "      <td>Вакум</td>\n",
       "      <td>16</td>\n",
       "      <td>Бүргэд</td>\n",
       "      <td>115.86</td>\n",
       "      <td>7</td>\n",
       "      <td>0</td>\n",
       "      <td>5</td>\n",
       "      <td>1</td>\n",
       "      <td>8</td>\n",
       "      <td>УБ — Баянзүрх</td>\n",
       "    </tr>\n",
       "  </tbody>\n",
       "</table>\n",
       "</div>"
      ],
      "text/plain": [
       "       үнэ                 хаяг    Шал:  Тагт:  Гараж:  Цонх:  \\\n",
       "0   84.000            Viva city  Паркет      0       0  Вакум   \n",
       "1  115.000        19-р хороолол  Паркет      1       0  Вакум   \n",
       "2  510.000  Чингис зочид буудал  Паркет      1       0  Вакум   \n",
       "3  107.946    Хан-Уул, Хороо 16  Паркет      0       0  Вакум   \n",
       "4  521.370   Баянзүрх, Хороо 26  Паркет      2       1  Вакум   \n",
       "\n",
       "   Барилгын давхар: Хаалга:  Талбай:  Хэдэн давхарт:  Лизингээр авах боломж:  \\\n",
       "0                 5  Бүргэд    30.50               5                       0   \n",
       "1                 5  Бүргэд    16.00               5                       0   \n",
       "2                10  Бүргэд   150.00              10                       0   \n",
       "3                12   Бусад    39.98               2                       0   \n",
       "4                16  Бүргэд   115.86               7                       0   \n",
       "\n",
       "   Цонхны тоо:  Барилгын явц:  Нас         Дүүрэг  \n",
       "0            2              1   11   УБ — Хан-Уул  \n",
       "1            2              1   34   УБ — Хан-Уул  \n",
       "2            5              1   14  УБ — Баянзүрх  \n",
       "3            2              1    3   УБ — Хан-Уул  \n",
       "4            5              1    8  УБ — Баянзүрх  "
      ]
     },
     "execution_count": 1240,
     "metadata": {},
     "output_type": "execute_result"
    }
   ],
   "source": [
    "df.head()"
   ]
  },
  {
   "cell_type": "code",
   "execution_count": null,
   "metadata": {},
   "outputs": [
    {
     "data": {
      "text/plain": [
       "count    5237.000000\n",
       "mean      298.195348\n",
       "std       183.331227\n",
       "min        45.000000\n",
       "25%       160.000000\n",
       "50%       236.900000\n",
       "75%       395.000000\n",
       "max       880.000000\n",
       "Name: үнэ, dtype: float64"
      ]
     },
     "execution_count": 1241,
     "metadata": {},
     "output_type": "execute_result"
    }
   ],
   "source": [
    "df['үнэ'].describe()"
   ]
  },
  {
   "cell_type": "code",
   "execution_count": null,
   "metadata": {},
   "outputs": [
    {
     "data": {
      "text/plain": [
       "count       5237\n",
       "unique       248\n",
       "top       Яармаг\n",
       "freq         502\n",
       "Name: хаяг, dtype: object"
      ]
     },
     "execution_count": 1242,
     "metadata": {},
     "output_type": "execute_result"
    }
   ],
   "source": [
    "df['хаяг'].describe()"
   ]
  },
  {
   "cell_type": "code",
   "execution_count": null,
   "metadata": {},
   "outputs": [
    {
     "data": {
      "text/plain": [
       "(5132, 15)"
      ]
     },
     "execution_count": 1243,
     "metadata": {},
     "output_type": "execute_result"
    }
   ],
   "source": [
    "df = df[df['хаяг'] != 0]\n",
    "df.shape"
   ]
  },
  {
   "cell_type": "code",
   "execution_count": null,
   "metadata": {},
   "outputs": [
    {
     "data": {
      "text/html": [
       "<div>\n",
       "<style scoped>\n",
       "    .dataframe tbody tr th:only-of-type {\n",
       "        vertical-align: middle;\n",
       "    }\n",
       "\n",
       "    .dataframe tbody tr th {\n",
       "        vertical-align: top;\n",
       "    }\n",
       "\n",
       "    .dataframe thead th {\n",
       "        text-align: right;\n",
       "    }\n",
       "</style>\n",
       "<table border=\"1\" class=\"dataframe\">\n",
       "  <thead>\n",
       "    <tr style=\"text-align: right;\">\n",
       "      <th></th>\n",
       "      <th>Дүүрэг</th>\n",
       "      <th>хаяг</th>\n",
       "      <th>MeanPrice</th>\n",
       "    </tr>\n",
       "  </thead>\n",
       "  <tbody>\n",
       "    <tr>\n",
       "      <th>113</th>\n",
       "      <td>УБ — Сонгинохайрхан</td>\n",
       "      <td>1-р хороолол</td>\n",
       "      <td>161.764462</td>\n",
       "    </tr>\n",
       "  </tbody>\n",
       "</table>\n",
       "</div>"
      ],
      "text/plain": [
       "                  Дүүрэг          хаяг   MeanPrice\n",
       "113  УБ — Сонгинохайрхан  1-р хороолол  161.764462"
      ]
     },
     "execution_count": 1247,
     "metadata": {},
     "output_type": "execute_result"
    }
   ],
   "source": [
    "\n",
    "mean_prices = df.groupby(['Дүүрэг', 'хаяг'])['үнэ'].mean().reset_index(name='MeanPrice')\n",
    "pd.reset_option('display.max_rows')\n",
    "mean_prices[mean_prices['хаяг'] == '1-р хороолол']"
   ]
  },
  {
   "cell_type": "code",
   "execution_count": null,
   "metadata": {},
   "outputs": [
    {
     "name": "stderr",
     "output_type": "stream",
     "text": [
      "/var/folders/k5/d_ccjpd550q3sskv2xjl_mxc0000gn/T/ipykernel_3435/3600491394.py:20: DeprecationWarning: DataFrameGroupBy.apply operated on the grouping columns. This behavior is deprecated, and in a future version of pandas the grouping columns will be excluded from the operation. Either pass `include_groups=False` to exclude the groupings or explicitly select the grouping columns after groupby to silence this warning.\n",
      "  categorized_mean_prices = mean_prices.groupby('Дүүрэг').apply(categorize_district)\n"
     ]
    },
    {
     "data": {
      "text/html": [
       "<div>\n",
       "<style scoped>\n",
       "    .dataframe tbody tr th:only-of-type {\n",
       "        vertical-align: middle;\n",
       "    }\n",
       "\n",
       "    .dataframe tbody tr th {\n",
       "        vertical-align: top;\n",
       "    }\n",
       "\n",
       "    .dataframe thead th {\n",
       "        text-align: right;\n",
       "    }\n",
       "</style>\n",
       "<table border=\"1\" class=\"dataframe\">\n",
       "  <thead>\n",
       "    <tr style=\"text-align: right;\">\n",
       "      <th></th>\n",
       "      <th></th>\n",
       "      <th>Дүүрэг</th>\n",
       "      <th>хаяг</th>\n",
       "      <th>MeanPrice</th>\n",
       "      <th>Category</th>\n",
       "    </tr>\n",
       "    <tr>\n",
       "      <th>Дүүрэг</th>\n",
       "      <th></th>\n",
       "      <th></th>\n",
       "      <th></th>\n",
       "      <th></th>\n",
       "      <th></th>\n",
       "    </tr>\n",
       "  </thead>\n",
       "  <tbody>\n",
       "    <tr>\n",
       "      <th>УБ — Багануур</th>\n",
       "      <th>0</th>\n",
       "      <td>УБ — Багануур</td>\n",
       "      <td>Багануур, Хороо 3</td>\n",
       "      <td>150.000000</td>\n",
       "      <td>Medium</td>\n",
       "    </tr>\n",
       "    <tr>\n",
       "      <th rowspan=\"4\" valign=\"top\">УБ — Баянгол</th>\n",
       "      <th>1</th>\n",
       "      <td>УБ — Баянгол</td>\n",
       "      <td>10-р хороолол</td>\n",
       "      <td>162.101981</td>\n",
       "      <td>Low</td>\n",
       "    </tr>\n",
       "    <tr>\n",
       "      <th>2</th>\n",
       "      <td>УБ — Баянгол</td>\n",
       "      <td>25-р эмийн сан</td>\n",
       "      <td>173.897308</td>\n",
       "      <td>Medium</td>\n",
       "    </tr>\n",
       "    <tr>\n",
       "      <th>3</th>\n",
       "      <td>УБ — Баянгол</td>\n",
       "      <td>3, 4 хороолол</td>\n",
       "      <td>175.402758</td>\n",
       "      <td>Medium</td>\n",
       "    </tr>\n",
       "    <tr>\n",
       "      <th>4</th>\n",
       "      <td>УБ — Баянгол</td>\n",
       "      <td>4-р хороолол</td>\n",
       "      <td>211.000000</td>\n",
       "      <td>Medium</td>\n",
       "    </tr>\n",
       "    <tr>\n",
       "      <th>...</th>\n",
       "      <th>...</th>\n",
       "      <td>...</td>\n",
       "      <td>...</td>\n",
       "      <td>...</td>\n",
       "      <td>...</td>\n",
       "    </tr>\n",
       "    <tr>\n",
       "      <th rowspan=\"5\" valign=\"top\">УБ — Чингэлтэй</th>\n",
       "      <th>242</th>\n",
       "      <td>УБ — Чингэлтэй</td>\n",
       "      <td>Чингэлтэй, Хороо 3</td>\n",
       "      <td>387.015000</td>\n",
       "      <td>Medium</td>\n",
       "    </tr>\n",
       "    <tr>\n",
       "      <th>243</th>\n",
       "      <td>УБ — Чингэлтэй</td>\n",
       "      <td>Чингэлтэй, Хороо 4</td>\n",
       "      <td>347.100000</td>\n",
       "      <td>Medium</td>\n",
       "    </tr>\n",
       "    <tr>\n",
       "      <th>244</th>\n",
       "      <td>УБ — Чингэлтэй</td>\n",
       "      <td>Чингэлтэй, Хороо 5</td>\n",
       "      <td>240.083333</td>\n",
       "      <td>Medium</td>\n",
       "    </tr>\n",
       "    <tr>\n",
       "      <th>245</th>\n",
       "      <td>УБ — Чингэлтэй</td>\n",
       "      <td>Чингэлтэй, Хороо 6</td>\n",
       "      <td>304.500000</td>\n",
       "      <td>Medium</td>\n",
       "    </tr>\n",
       "    <tr>\n",
       "      <th>246</th>\n",
       "      <td>УБ — Чингэлтэй</td>\n",
       "      <td>Чингэлтэй, Хороо 9</td>\n",
       "      <td>175.929600</td>\n",
       "      <td>Low</td>\n",
       "    </tr>\n",
       "  </tbody>\n",
       "</table>\n",
       "<p>247 rows × 4 columns</p>\n",
       "</div>"
      ],
      "text/plain": [
       "                            Дүүрэг                хаяг   MeanPrice Category\n",
       "Дүүрэг                                                                     \n",
       "УБ — Багануур  0     УБ — Багануур   Багануур, Хороо 3  150.000000   Medium\n",
       "УБ — Баянгол   1      УБ — Баянгол       10-р хороолол  162.101981      Low\n",
       "               2      УБ — Баянгол      25-р эмийн сан  173.897308   Medium\n",
       "               3      УБ — Баянгол       3, 4 хороолол  175.402758   Medium\n",
       "               4      УБ — Баянгол        4-р хороолол  211.000000   Medium\n",
       "...                            ...                 ...         ...      ...\n",
       "УБ — Чингэлтэй 242  УБ — Чингэлтэй  Чингэлтэй, Хороо 3  387.015000   Medium\n",
       "               243  УБ — Чингэлтэй  Чингэлтэй, Хороо 4  347.100000   Medium\n",
       "               244  УБ — Чингэлтэй  Чингэлтэй, Хороо 5  240.083333   Medium\n",
       "               245  УБ — Чингэлтэй  Чингэлтэй, Хороо 6  304.500000   Medium\n",
       "               246  УБ — Чингэлтэй  Чингэлтэй, Хороо 9  175.929600      Low\n",
       "\n",
       "[247 rows x 4 columns]"
      ]
     },
     "execution_count": 1187,
     "metadata": {},
     "output_type": "execute_result"
    }
   ],
   "source": [
    "# Define a function to categorize each district\n",
    "def categorize_district(district_df):\n",
    "    Q1 = district_df['MeanPrice'].quantile(0.25)\n",
    "    Q3 = district_df['MeanPrice'].quantile(0.75)\n",
    "    min_val = district_df['MeanPrice'].min()\n",
    "    max_val = district_df['MeanPrice'].max()\n",
    "    \n",
    "    bins = [min_val, Q1, Q3, max_val]\n",
    "    \n",
    "    # Ensure bin edges are unique\n",
    "    if len(set(bins)) < len(bins):\n",
    "        district_df['Category'] = 'Medium'  # Default category if bin edges are not unique\n",
    "    else:\n",
    "        labels = ['Low', 'Medium', 'High']\n",
    "        district_df['Category'] = pd.cut(district_df['MeanPrice'], bins=bins, labels=labels, include_lowest=True)\n",
    "    \n",
    "    return district_df\n",
    "\n",
    "# Apply the function to each district\n",
    "categorized_mean_prices = mean_prices.groupby('Дүүрэг').apply(categorize_district)\n",
    "categorized_mean_prices\n",
    "\n"
   ]
  },
  {
   "cell_type": "code",
   "execution_count": null,
   "metadata": {},
   "outputs": [
    {
     "data": {
      "text/plain": [
       "(5132, 16)"
      ]
     },
     "execution_count": 1188,
     "metadata": {},
     "output_type": "execute_result"
    }
   ],
   "source": [
    "# Merge the categories back to the original dataframe\n",
    "a = df.merge(categorized_mean_prices[['хаяг', 'Category']], on='хаяг', how='left')\n",
    "\n",
    "a.shape"
   ]
  },
  {
   "cell_type": "code",
   "execution_count": null,
   "metadata": {},
   "outputs": [],
   "source": [
    "a = a[a['Хэдэн давхарт:'] > 0]\n",
    "\n",
    "# Create the new feature 'floor_ratio'\n",
    "a['floor_ratio'] = a['Хэдэн давхарт:'] / a['Барилгын давхар:']"
   ]
  },
  {
   "cell_type": "markdown",
   "metadata": {},
   "source": [
    "## Do one-hot encoder for categorical values"
   ]
  },
  {
   "cell_type": "code",
   "execution_count": null,
   "metadata": {},
   "outputs": [
    {
     "data": {
      "text/plain": [
       "array(['Вакум', 'Бусад'], dtype=object)"
      ]
     },
     "execution_count": 1190,
     "metadata": {},
     "output_type": "execute_result"
    }
   ],
   "source": [
    "a['Цонх:'].unique()"
   ]
  },
  {
   "cell_type": "code",
   "execution_count": null,
   "metadata": {},
   "outputs": [
    {
     "data": {
      "text/html": [
       "<div>\n",
       "<style scoped>\n",
       "    .dataframe tbody tr th:only-of-type {\n",
       "        vertical-align: middle;\n",
       "    }\n",
       "\n",
       "    .dataframe tbody tr th {\n",
       "        vertical-align: top;\n",
       "    }\n",
       "\n",
       "    .dataframe thead th {\n",
       "        text-align: right;\n",
       "    }\n",
       "</style>\n",
       "<table border=\"1\" class=\"dataframe\">\n",
       "  <thead>\n",
       "    <tr style=\"text-align: right;\">\n",
       "      <th></th>\n",
       "      <th>үнэ</th>\n",
       "      <th>хаяг</th>\n",
       "      <th>Шал:</th>\n",
       "      <th>Тагт:</th>\n",
       "      <th>Гараж:</th>\n",
       "      <th>Цонх:</th>\n",
       "      <th>Барилгын давхар:</th>\n",
       "      <th>Хаалга:</th>\n",
       "      <th>Талбай:</th>\n",
       "      <th>Хэдэн давхарт:</th>\n",
       "      <th>Лизингээр авах боломж:</th>\n",
       "      <th>Цонхны тоо:</th>\n",
       "      <th>Барилгын явц:</th>\n",
       "      <th>Нас</th>\n",
       "      <th>Дүүрэг</th>\n",
       "      <th>Category</th>\n",
       "      <th>floor_ratio</th>\n",
       "    </tr>\n",
       "  </thead>\n",
       "  <tbody>\n",
       "    <tr>\n",
       "      <th>0</th>\n",
       "      <td>84.000</td>\n",
       "      <td>Viva city</td>\n",
       "      <td>Паркет</td>\n",
       "      <td>0</td>\n",
       "      <td>0</td>\n",
       "      <td>Вакум</td>\n",
       "      <td>5</td>\n",
       "      <td>Бүргэд</td>\n",
       "      <td>30.50</td>\n",
       "      <td>5</td>\n",
       "      <td>0</td>\n",
       "      <td>2</td>\n",
       "      <td>1</td>\n",
       "      <td>11</td>\n",
       "      <td>УБ — Хан-Уул</td>\n",
       "      <td>Low</td>\n",
       "      <td>1.000000</td>\n",
       "    </tr>\n",
       "    <tr>\n",
       "      <th>1</th>\n",
       "      <td>115.000</td>\n",
       "      <td>19-р хороолол</td>\n",
       "      <td>Паркет</td>\n",
       "      <td>1</td>\n",
       "      <td>0</td>\n",
       "      <td>Вакум</td>\n",
       "      <td>5</td>\n",
       "      <td>Бүргэд</td>\n",
       "      <td>16.00</td>\n",
       "      <td>5</td>\n",
       "      <td>0</td>\n",
       "      <td>2</td>\n",
       "      <td>1</td>\n",
       "      <td>34</td>\n",
       "      <td>УБ — Хан-Уул</td>\n",
       "      <td>Medium</td>\n",
       "      <td>1.000000</td>\n",
       "    </tr>\n",
       "    <tr>\n",
       "      <th>2</th>\n",
       "      <td>510.000</td>\n",
       "      <td>Чингис зочид буудал</td>\n",
       "      <td>Паркет</td>\n",
       "      <td>1</td>\n",
       "      <td>0</td>\n",
       "      <td>Вакум</td>\n",
       "      <td>10</td>\n",
       "      <td>Бүргэд</td>\n",
       "      <td>150.00</td>\n",
       "      <td>10</td>\n",
       "      <td>0</td>\n",
       "      <td>5</td>\n",
       "      <td>1</td>\n",
       "      <td>14</td>\n",
       "      <td>УБ — Баянзүрх</td>\n",
       "      <td>High</td>\n",
       "      <td>1.000000</td>\n",
       "    </tr>\n",
       "    <tr>\n",
       "      <th>3</th>\n",
       "      <td>107.946</td>\n",
       "      <td>Хан-Уул, Хороо 16</td>\n",
       "      <td>Паркет</td>\n",
       "      <td>0</td>\n",
       "      <td>0</td>\n",
       "      <td>Вакум</td>\n",
       "      <td>12</td>\n",
       "      <td>Бусад</td>\n",
       "      <td>39.98</td>\n",
       "      <td>2</td>\n",
       "      <td>0</td>\n",
       "      <td>2</td>\n",
       "      <td>1</td>\n",
       "      <td>3</td>\n",
       "      <td>УБ — Хан-Уул</td>\n",
       "      <td>Low</td>\n",
       "      <td>0.166667</td>\n",
       "    </tr>\n",
       "    <tr>\n",
       "      <th>4</th>\n",
       "      <td>521.370</td>\n",
       "      <td>Баянзүрх, Хороо 26</td>\n",
       "      <td>Паркет</td>\n",
       "      <td>2</td>\n",
       "      <td>1</td>\n",
       "      <td>Вакум</td>\n",
       "      <td>16</td>\n",
       "      <td>Бүргэд</td>\n",
       "      <td>115.86</td>\n",
       "      <td>7</td>\n",
       "      <td>0</td>\n",
       "      <td>5</td>\n",
       "      <td>1</td>\n",
       "      <td>8</td>\n",
       "      <td>УБ — Баянзүрх</td>\n",
       "      <td>High</td>\n",
       "      <td>0.437500</td>\n",
       "    </tr>\n",
       "  </tbody>\n",
       "</table>\n",
       "</div>"
      ],
      "text/plain": [
       "       үнэ                 хаяг    Шал:  Тагт:  Гараж:  Цонх:  \\\n",
       "0   84.000            Viva city  Паркет      0       0  Вакум   \n",
       "1  115.000        19-р хороолол  Паркет      1       0  Вакум   \n",
       "2  510.000  Чингис зочид буудал  Паркет      1       0  Вакум   \n",
       "3  107.946    Хан-Уул, Хороо 16  Паркет      0       0  Вакум   \n",
       "4  521.370   Баянзүрх, Хороо 26  Паркет      2       1  Вакум   \n",
       "\n",
       "   Барилгын давхар: Хаалга:  Талбай:  Хэдэн давхарт:  Лизингээр авах боломж:  \\\n",
       "0                 5  Бүргэд    30.50               5                       0   \n",
       "1                 5  Бүргэд    16.00               5                       0   \n",
       "2                10  Бүргэд   150.00              10                       0   \n",
       "3                12   Бусад    39.98               2                       0   \n",
       "4                16  Бүргэд   115.86               7                       0   \n",
       "\n",
       "   Цонхны тоо:  Барилгын явц:  Нас         Дүүрэг Category  floor_ratio  \n",
       "0            2              1   11   УБ — Хан-Уул      Low     1.000000  \n",
       "1            2              1   34   УБ — Хан-Уул   Medium     1.000000  \n",
       "2            5              1   14  УБ — Баянзүрх     High     1.000000  \n",
       "3            2              1    3   УБ — Хан-Уул      Low     0.166667  \n",
       "4            5              1    8  УБ — Баянзүрх     High     0.437500  "
      ]
     },
     "execution_count": 1191,
     "metadata": {},
     "output_type": "execute_result"
    }
   ],
   "source": [
    "a.head()"
   ]
  },
  {
   "cell_type": "code",
   "execution_count": null,
   "metadata": {},
   "outputs": [
    {
     "data": {
      "text/html": [
       "<div>\n",
       "<style scoped>\n",
       "    .dataframe tbody tr th:only-of-type {\n",
       "        vertical-align: middle;\n",
       "    }\n",
       "\n",
       "    .dataframe tbody tr th {\n",
       "        vertical-align: top;\n",
       "    }\n",
       "\n",
       "    .dataframe thead th {\n",
       "        text-align: right;\n",
       "    }\n",
       "</style>\n",
       "<table border=\"1\" class=\"dataframe\">\n",
       "  <thead>\n",
       "    <tr style=\"text-align: right;\">\n",
       "      <th></th>\n",
       "      <th>Дүүрэг_УБ — Багануур</th>\n",
       "      <th>Дүүрэг_УБ — Баянгол</th>\n",
       "      <th>Дүүрэг_УБ — Баянзүрх</th>\n",
       "      <th>Дүүрэг_УБ — Налайх</th>\n",
       "      <th>Дүүрэг_УБ — Сонгинохайрхан</th>\n",
       "      <th>Дүүрэг_УБ — Сүхбаатар</th>\n",
       "      <th>Дүүрэг_УБ — Хан-Уул</th>\n",
       "      <th>Дүүрэг_УБ — Чингэлтэй</th>\n",
       "    </tr>\n",
       "  </thead>\n",
       "  <tbody>\n",
       "    <tr>\n",
       "      <th>0</th>\n",
       "      <td>False</td>\n",
       "      <td>False</td>\n",
       "      <td>False</td>\n",
       "      <td>False</td>\n",
       "      <td>False</td>\n",
       "      <td>False</td>\n",
       "      <td>True</td>\n",
       "      <td>False</td>\n",
       "    </tr>\n",
       "    <tr>\n",
       "      <th>1</th>\n",
       "      <td>False</td>\n",
       "      <td>False</td>\n",
       "      <td>False</td>\n",
       "      <td>False</td>\n",
       "      <td>False</td>\n",
       "      <td>False</td>\n",
       "      <td>True</td>\n",
       "      <td>False</td>\n",
       "    </tr>\n",
       "    <tr>\n",
       "      <th>2</th>\n",
       "      <td>False</td>\n",
       "      <td>False</td>\n",
       "      <td>True</td>\n",
       "      <td>False</td>\n",
       "      <td>False</td>\n",
       "      <td>False</td>\n",
       "      <td>False</td>\n",
       "      <td>False</td>\n",
       "    </tr>\n",
       "    <tr>\n",
       "      <th>3</th>\n",
       "      <td>False</td>\n",
       "      <td>False</td>\n",
       "      <td>False</td>\n",
       "      <td>False</td>\n",
       "      <td>False</td>\n",
       "      <td>False</td>\n",
       "      <td>True</td>\n",
       "      <td>False</td>\n",
       "    </tr>\n",
       "    <tr>\n",
       "      <th>4</th>\n",
       "      <td>False</td>\n",
       "      <td>False</td>\n",
       "      <td>True</td>\n",
       "      <td>False</td>\n",
       "      <td>False</td>\n",
       "      <td>False</td>\n",
       "      <td>False</td>\n",
       "      <td>False</td>\n",
       "    </tr>\n",
       "  </tbody>\n",
       "</table>\n",
       "</div>"
      ],
      "text/plain": [
       "   Дүүрэг_УБ — Багануур  Дүүрэг_УБ — Баянгол  Дүүрэг_УБ — Баянзүрх  \\\n",
       "0                 False                False                 False   \n",
       "1                 False                False                 False   \n",
       "2                 False                False                  True   \n",
       "3                 False                False                 False   \n",
       "4                 False                False                  True   \n",
       "\n",
       "   Дүүрэг_УБ — Налайх  Дүүрэг_УБ — Сонгинохайрхан  Дүүрэг_УБ — Сүхбаатар  \\\n",
       "0               False                       False                  False   \n",
       "1               False                       False                  False   \n",
       "2               False                       False                  False   \n",
       "3               False                       False                  False   \n",
       "4               False                       False                  False   \n",
       "\n",
       "   Дүүрэг_УБ — Хан-Уул  Дүүрэг_УБ — Чингэлтэй  \n",
       "0                 True                  False  \n",
       "1                 True                  False  \n",
       "2                False                  False  \n",
       "3                 True                  False  \n",
       "4                False                  False  "
      ]
     },
     "execution_count": 1192,
     "metadata": {},
     "output_type": "execute_result"
    }
   ],
   "source": [
    "a = pd.get_dummies(a, columns=['Цонх:', 'Дүүрэг', 'Хаалга:', 'Шал:', 'Category'])\n",
    "a.filter(like='Дүүрэг').head(5)"
   ]
  },
  {
   "cell_type": "code",
   "execution_count": null,
   "metadata": {},
   "outputs": [
    {
     "data": {
      "text/plain": [
       "(5132, 30)"
      ]
     },
     "execution_count": 1193,
     "metadata": {},
     "output_type": "execute_result"
    }
   ],
   "source": [
    "a.shape"
   ]
  },
  {
   "cell_type": "code",
   "execution_count": null,
   "metadata": {},
   "outputs": [],
   "source": [
    "a.to_csv('training_data.csv')"
   ]
  }
 ],
 "metadata": {
  "kernelspec": {
   "display_name": "Python 3",
   "language": "python",
   "name": "python3"
  },
  "language_info": {
   "codemirror_mode": {
    "name": "ipython",
    "version": 3
   },
   "file_extension": ".py",
   "mimetype": "text/x-python",
   "name": "python",
   "nbconvert_exporter": "python",
   "pygments_lexer": "ipython3",
   "version": "3.11.0"
  }
 },
 "nbformat": 4,
 "nbformat_minor": 2
}
