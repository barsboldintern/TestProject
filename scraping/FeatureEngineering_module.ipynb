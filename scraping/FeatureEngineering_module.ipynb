{
 "cells": [
  {
   "cell_type": "markdown",
   "metadata": {},
   "source": [
    "# This is Feature Engineering Module.\n",
    "\n",
    "* Objectives of this module includes creating new effective features based on our scraped features"
   ]
  },
  {
   "cell_type": "code",
   "execution_count": 1,
   "metadata": {},
   "outputs": [],
   "source": [
    "import numpy as np\n",
    "import pandas as pd\n",
    "import matplotlib.pyplot as plt\n",
    "import seaborn as sns\n",
    "\n",
    "# view additional data frame columns\n",
    "pd.set_option('display.max_columns', 100)\n",
    "\n",
    "# display plots in the notebook\n",
    "%matplotlib inline\n",
    "\n",
    "# load the cleaned dataset\n",
    "df = pd.read_csv('cleaned_data.csv')"
   ]
  },
  {
   "cell_type": "markdown",
   "metadata": {},
   "source": [
    "## Developing new features and consolidating sparse classes into a one single classes."
   ]
  },
  {
   "cell_type": "code",
   "execution_count": 2,
   "metadata": {},
   "outputs": [
    {
     "data": {
      "text/plain": [
       "count    5370.000000\n",
       "mean        7.537430\n",
       "std         9.119547\n",
       "min        -1.000000\n",
       "25%         1.000000\n",
       "50%         5.000000\n",
       "75%        10.000000\n",
       "max        44.000000\n",
       "Name: Нас, dtype: float64"
      ]
     },
     "execution_count": 2,
     "metadata": {},
     "output_type": "execute_result"
    }
   ],
   "source": [
    "# Use arithmetic to construct new features \n",
    "df['Нас'] = 2024 - df['Ашиглалтанд орсон он:']\n",
    "\n",
    "# Check for improper data values\n",
    "df['Нас'].describe()"
   ]
  },
  {
   "cell_type": "code",
   "execution_count": 3,
   "metadata": {},
   "outputs": [
    {
     "data": {
      "text/plain": [
       "40"
      ]
     },
     "execution_count": 3,
     "metadata": {},
     "output_type": "execute_result"
    }
   ],
   "source": [
    "# Determine the number of observations that have descrepancies\n",
    "df['Нас'].lt(0).sum()"
   ]
  },
  {
   "cell_type": "code",
   "execution_count": 4,
   "metadata": {},
   "outputs": [
    {
     "data": {
      "text/html": [
       "<div>\n",
       "<style scoped>\n",
       "    .dataframe tbody tr th:only-of-type {\n",
       "        vertical-align: middle;\n",
       "    }\n",
       "\n",
       "    .dataframe tbody tr th {\n",
       "        vertical-align: top;\n",
       "    }\n",
       "\n",
       "    .dataframe thead th {\n",
       "        text-align: right;\n",
       "    }\n",
       "</style>\n",
       "<table border=\"1\" class=\"dataframe\">\n",
       "  <thead>\n",
       "    <tr style=\"text-align: right;\">\n",
       "      <th></th>\n",
       "      <th>үнэ</th>\n",
       "      <th>хаяг</th>\n",
       "      <th>Шал:</th>\n",
       "      <th>Тагт:</th>\n",
       "      <th>Ашиглалтанд орсон он:</th>\n",
       "      <th>Гараж:</th>\n",
       "      <th>Цонх:</th>\n",
       "      <th>Барилгын давхар:</th>\n",
       "      <th>Хаалга:</th>\n",
       "      <th>Талбай:</th>\n",
       "      <th>Хэдэн давхарт:</th>\n",
       "      <th>Лизингээр авах боломж:</th>\n",
       "      <th>Цонхны тоо:</th>\n",
       "      <th>Барилгын явц:</th>\n",
       "      <th>Нас</th>\n",
       "    </tr>\n",
       "  </thead>\n",
       "  <tbody>\n",
       "    <tr>\n",
       "      <th>0</th>\n",
       "      <td>84.000</td>\n",
       "      <td>УБ — Хан-Уул, Viva city</td>\n",
       "      <td>Паркет</td>\n",
       "      <td>0</td>\n",
       "      <td>2013</td>\n",
       "      <td>0</td>\n",
       "      <td>Вакум</td>\n",
       "      <td>5</td>\n",
       "      <td>Бүргэд</td>\n",
       "      <td>30.50</td>\n",
       "      <td>5</td>\n",
       "      <td>0</td>\n",
       "      <td>2</td>\n",
       "      <td>1</td>\n",
       "      <td>11</td>\n",
       "    </tr>\n",
       "    <tr>\n",
       "      <th>1</th>\n",
       "      <td>115.000</td>\n",
       "      <td>УБ — Хан-Уул, 19-р хороолол</td>\n",
       "      <td>Паркет</td>\n",
       "      <td>1</td>\n",
       "      <td>1990</td>\n",
       "      <td>0</td>\n",
       "      <td>Вакум</td>\n",
       "      <td>5</td>\n",
       "      <td>Бүргэд</td>\n",
       "      <td>16.00</td>\n",
       "      <td>5</td>\n",
       "      <td>0</td>\n",
       "      <td>2</td>\n",
       "      <td>1</td>\n",
       "      <td>34</td>\n",
       "    </tr>\n",
       "    <tr>\n",
       "      <th>2</th>\n",
       "      <td>510.000</td>\n",
       "      <td>УБ — Баянзүрх, Чингис зочид буудал</td>\n",
       "      <td>Паркет</td>\n",
       "      <td>1</td>\n",
       "      <td>2010</td>\n",
       "      <td>0</td>\n",
       "      <td>Вакум</td>\n",
       "      <td>10</td>\n",
       "      <td>Бүргэд</td>\n",
       "      <td>150.00</td>\n",
       "      <td>10</td>\n",
       "      <td>0</td>\n",
       "      <td>5</td>\n",
       "      <td>1</td>\n",
       "      <td>14</td>\n",
       "    </tr>\n",
       "    <tr>\n",
       "      <th>3</th>\n",
       "      <td>107.946</td>\n",
       "      <td>УБ — Хан-Уул, Хан-Уул, Хороо 16</td>\n",
       "      <td>Паркет</td>\n",
       "      <td>0</td>\n",
       "      <td>2021</td>\n",
       "      <td>0</td>\n",
       "      <td>Вакум</td>\n",
       "      <td>12</td>\n",
       "      <td>Вакум</td>\n",
       "      <td>39.98</td>\n",
       "      <td>2</td>\n",
       "      <td>0</td>\n",
       "      <td>2</td>\n",
       "      <td>1</td>\n",
       "      <td>3</td>\n",
       "    </tr>\n",
       "    <tr>\n",
       "      <th>4</th>\n",
       "      <td>521.370</td>\n",
       "      <td>УБ — Баянзүрх, Баянзүрх, Хороо 26</td>\n",
       "      <td>Паркет</td>\n",
       "      <td>2</td>\n",
       "      <td>2016</td>\n",
       "      <td>1</td>\n",
       "      <td>Вакум</td>\n",
       "      <td>16</td>\n",
       "      <td>Бүргэд</td>\n",
       "      <td>115.86</td>\n",
       "      <td>7</td>\n",
       "      <td>0</td>\n",
       "      <td>5</td>\n",
       "      <td>1</td>\n",
       "      <td>8</td>\n",
       "    </tr>\n",
       "  </tbody>\n",
       "</table>\n",
       "</div>"
      ],
      "text/plain": [
       "       үнэ                                хаяг    Шал:  Тагт:  \\\n",
       "0   84.000             УБ — Хан-Уул, Viva city  Паркет      0   \n",
       "1  115.000         УБ — Хан-Уул, 19-р хороолол  Паркет      1   \n",
       "2  510.000  УБ — Баянзүрх, Чингис зочид буудал  Паркет      1   \n",
       "3  107.946     УБ — Хан-Уул, Хан-Уул, Хороо 16  Паркет      0   \n",
       "4  521.370   УБ — Баянзүрх, Баянзүрх, Хороо 26  Паркет      2   \n",
       "\n",
       "   Ашиглалтанд орсон он:  Гараж:  Цонх:  Барилгын давхар: Хаалга:  Талбай:  \\\n",
       "0                   2013       0  Вакум                 5  Бүргэд    30.50   \n",
       "1                   1990       0  Вакум                 5  Бүргэд    16.00   \n",
       "2                   2010       0  Вакум                10  Бүргэд   150.00   \n",
       "3                   2021       0  Вакум                12   Вакум    39.98   \n",
       "4                   2016       1  Вакум                16  Бүргэд   115.86   \n",
       "\n",
       "   Хэдэн давхарт:  Лизингээр авах боломж:  Цонхны тоо:  Барилгын явц:  Нас  \n",
       "0               5                       0            2              1   11  \n",
       "1               5                       0            2              1   34  \n",
       "2              10                       0            5              1   14  \n",
       "3               2                       0            2              1    3  \n",
       "4               7                       0            5              1    8  "
      ]
     },
     "execution_count": 4,
     "metadata": {},
     "output_type": "execute_result"
    }
   ],
   "source": [
    "# Remove observations that are negative in property age\n",
    "df = df[df['Нас'] >= 0]\n",
    "\n",
    "# review the remaining observations\n",
    "df.head()"
   ]
  },
  {
   "cell_type": "code",
   "execution_count": 5,
   "metadata": {},
   "outputs": [
    {
     "data": {
      "text/html": [
       "<div>\n",
       "<style scoped>\n",
       "    .dataframe tbody tr th:only-of-type {\n",
       "        vertical-align: middle;\n",
       "    }\n",
       "\n",
       "    .dataframe tbody tr th {\n",
       "        vertical-align: top;\n",
       "    }\n",
       "\n",
       "    .dataframe thead th {\n",
       "        text-align: right;\n",
       "    }\n",
       "</style>\n",
       "<table border=\"1\" class=\"dataframe\">\n",
       "  <thead>\n",
       "    <tr style=\"text-align: right;\">\n",
       "      <th></th>\n",
       "      <th>үнэ</th>\n",
       "      <th>хаяг</th>\n",
       "      <th>Шал:</th>\n",
       "      <th>Тагт:</th>\n",
       "      <th>Ашиглалтанд орсон он:</th>\n",
       "      <th>Гараж:</th>\n",
       "      <th>Цонх:</th>\n",
       "      <th>Барилгын давхар:</th>\n",
       "      <th>Хаалга:</th>\n",
       "      <th>Талбай:</th>\n",
       "      <th>Хэдэн давхарт:</th>\n",
       "      <th>Лизингээр авах боломж:</th>\n",
       "      <th>Цонхны тоо:</th>\n",
       "      <th>Барилгын явц:</th>\n",
       "      <th>Нас</th>\n",
       "      <th>Дүүрэг</th>\n",
       "    </tr>\n",
       "  </thead>\n",
       "  <tbody>\n",
       "    <tr>\n",
       "      <th>0</th>\n",
       "      <td>84.000</td>\n",
       "      <td>Viva city</td>\n",
       "      <td>Паркет</td>\n",
       "      <td>0</td>\n",
       "      <td>2013</td>\n",
       "      <td>0</td>\n",
       "      <td>Вакум</td>\n",
       "      <td>5</td>\n",
       "      <td>Бүргэд</td>\n",
       "      <td>30.50</td>\n",
       "      <td>5</td>\n",
       "      <td>0</td>\n",
       "      <td>2</td>\n",
       "      <td>1</td>\n",
       "      <td>11</td>\n",
       "      <td>УБ — Хан-Уул</td>\n",
       "    </tr>\n",
       "    <tr>\n",
       "      <th>1</th>\n",
       "      <td>115.000</td>\n",
       "      <td>19-р хороолол</td>\n",
       "      <td>Паркет</td>\n",
       "      <td>1</td>\n",
       "      <td>1990</td>\n",
       "      <td>0</td>\n",
       "      <td>Вакум</td>\n",
       "      <td>5</td>\n",
       "      <td>Бүргэд</td>\n",
       "      <td>16.00</td>\n",
       "      <td>5</td>\n",
       "      <td>0</td>\n",
       "      <td>2</td>\n",
       "      <td>1</td>\n",
       "      <td>34</td>\n",
       "      <td>УБ — Хан-Уул</td>\n",
       "    </tr>\n",
       "    <tr>\n",
       "      <th>2</th>\n",
       "      <td>510.000</td>\n",
       "      <td>Чингис зочид буудал</td>\n",
       "      <td>Паркет</td>\n",
       "      <td>1</td>\n",
       "      <td>2010</td>\n",
       "      <td>0</td>\n",
       "      <td>Вакум</td>\n",
       "      <td>10</td>\n",
       "      <td>Бүргэд</td>\n",
       "      <td>150.00</td>\n",
       "      <td>10</td>\n",
       "      <td>0</td>\n",
       "      <td>5</td>\n",
       "      <td>1</td>\n",
       "      <td>14</td>\n",
       "      <td>УБ — Баянзүрх</td>\n",
       "    </tr>\n",
       "    <tr>\n",
       "      <th>3</th>\n",
       "      <td>107.946</td>\n",
       "      <td>Хан-Уул</td>\n",
       "      <td>Паркет</td>\n",
       "      <td>0</td>\n",
       "      <td>2021</td>\n",
       "      <td>0</td>\n",
       "      <td>Вакум</td>\n",
       "      <td>12</td>\n",
       "      <td>Вакум</td>\n",
       "      <td>39.98</td>\n",
       "      <td>2</td>\n",
       "      <td>0</td>\n",
       "      <td>2</td>\n",
       "      <td>1</td>\n",
       "      <td>3</td>\n",
       "      <td>УБ — Хан-Уул</td>\n",
       "    </tr>\n",
       "    <tr>\n",
       "      <th>4</th>\n",
       "      <td>521.370</td>\n",
       "      <td>Баянзүрх</td>\n",
       "      <td>Паркет</td>\n",
       "      <td>2</td>\n",
       "      <td>2016</td>\n",
       "      <td>1</td>\n",
       "      <td>Вакум</td>\n",
       "      <td>16</td>\n",
       "      <td>Бүргэд</td>\n",
       "      <td>115.86</td>\n",
       "      <td>7</td>\n",
       "      <td>0</td>\n",
       "      <td>5</td>\n",
       "      <td>1</td>\n",
       "      <td>8</td>\n",
       "      <td>УБ — Баянзүрх</td>\n",
       "    </tr>\n",
       "  </tbody>\n",
       "</table>\n",
       "</div>"
      ],
      "text/plain": [
       "       үнэ                 хаяг    Шал:  Тагт:  Ашиглалтанд орсон он:  Гараж:  \\\n",
       "0   84.000            Viva city  Паркет      0                   2013       0   \n",
       "1  115.000        19-р хороолол  Паркет      1                   1990       0   \n",
       "2  510.000  Чингис зочид буудал  Паркет      1                   2010       0   \n",
       "3  107.946              Хан-Уул  Паркет      0                   2021       0   \n",
       "4  521.370             Баянзүрх  Паркет      2                   2016       1   \n",
       "\n",
       "   Цонх:  Барилгын давхар: Хаалга:  Талбай:  Хэдэн давхарт:  \\\n",
       "0  Вакум                 5  Бүргэд    30.50               5   \n",
       "1  Вакум                 5  Бүргэд    16.00               5   \n",
       "2  Вакум                10  Бүргэд   150.00              10   \n",
       "3  Вакум                12   Вакум    39.98               2   \n",
       "4  Вакум                16  Бүргэд   115.86               7   \n",
       "\n",
       "   Лизингээр авах боломж:  Цонхны тоо:  Барилгын явц:  Нас         Дүүрэг  \n",
       "0                       0            2              1   11   УБ — Хан-Уул  \n",
       "1                       0            2              1   34   УБ — Хан-Уул  \n",
       "2                       0            5              1   14  УБ — Баянзүрх  \n",
       "3                       0            2              1    3   УБ — Хан-Уул  \n",
       "4                       0            5              1    8  УБ — Баянзүрх  "
      ]
     },
     "execution_count": 5,
     "metadata": {},
     "output_type": "execute_result"
    }
   ],
   "source": [
    "# Let's create a new feature called \"District\", in order to have an easier to work with data.\n",
    "\n",
    "# Extract district by splitting the address on the comma and taking the first part\n",
    "df['Дүүрэг'] = df['хаяг'].str.split(',', expand=True)[0].str.strip()\n",
    "\n",
    "df['хаяг'] = df['хаяг'].str.split(',', expand=True)[1].str.strip() \n",
    "\n",
    "df['хаяг'] = df['хаяг'].fillna(0)\n",
    "df.head()\n"
   ]
  },
  {
   "cell_type": "code",
   "execution_count": 6,
   "metadata": {},
   "outputs": [
    {
     "data": {
      "text/plain": [
       "Хаалга:\n",
       "Бүргэд         3834\n",
       "Төмөр          1170\n",
       "Төмөр вакум     207\n",
       "Вакум            83\n",
       "Мод              36\n",
       "Name: count, dtype: int64"
      ]
     },
     "execution_count": 6,
     "metadata": {},
     "output_type": "execute_result"
    }
   ],
   "source": [
    "sda = df['Хаалга:'].value_counts()\n",
    "sda"
   ]
  },
  {
   "cell_type": "code",
   "execution_count": 7,
   "metadata": {},
   "outputs": [
    {
     "name": "stderr",
     "output_type": "stream",
     "text": [
      "/var/folders/k5/d_ccjpd550q3sskv2xjl_mxc0000gn/T/ipykernel_21625/2899084162.py:2: FutureWarning: A value is trying to be set on a copy of a DataFrame or Series through chained assignment using an inplace method.\n",
      "The behavior will change in pandas 3.0. This inplace method will never work because the intermediate object on which we are setting values always behaves as a copy.\n",
      "\n",
      "For example, when doing 'df[col].method(value, inplace=True)', try using 'df.method({col: value}, inplace=True)' or df[col] = df[col].method(value) instead, to perform the operation inplace on the original object.\n",
      "\n",
      "\n",
      "  df['Хаалга:'].replace(to_replace=['Төмөр вакум', 'Төмөр'], value='Төмөр', inplace=True)\n"
     ]
    },
    {
     "data": {
      "text/plain": [
       "Хаалга:\n",
       "Бүргэд    3834\n",
       "Төмөр     1377\n",
       "Вакум       83\n",
       "Мод         36\n",
       "Name: count, dtype: int64"
      ]
     },
     "execution_count": 7,
     "metadata": {},
     "output_type": "execute_result"
    }
   ],
   "source": [
    "#consolidate sparse classes into a one class\n",
    "df['Хаалга:'].replace(to_replace=['Төмөр вакум', 'Төмөр'], value='Төмөр', inplace=True)\n",
    "sda = df['Хаалга:'].value_counts()\n",
    "sda"
   ]
  },
  {
   "cell_type": "code",
   "execution_count": 8,
   "metadata": {},
   "outputs": [
    {
     "data": {
      "text/plain": [
       "Хаалга:\n",
       "Бүргэд    3834\n",
       "Төмөр     1377\n",
       "Бусад      119\n",
       "Name: count, dtype: int64"
      ]
     },
     "execution_count": 8,
     "metadata": {},
     "output_type": "execute_result"
    }
   ],
   "source": [
    "#list classes to be replaced as other\n",
    "\n",
    "other_roofs = ['Мод', 'Вакум']\n",
    "\n",
    "# consolidate into the 'Other' class\n",
    "df['Хаалга:'].replace(other_roofs, 'Бусад', inplace=True)\n",
    "sda = df['Хаалга:'].value_counts()\n",
    "sda\n"
   ]
  },
  {
   "cell_type": "code",
   "execution_count": 9,
   "metadata": {},
   "outputs": [
    {
     "data": {
      "text/plain": [
       "Шал:\n",
       "Паркет     5153\n",
       "Ламинат      72\n",
       "Мод          62\n",
       "Цемент       26\n",
       "Плита        15\n",
       "Чулуу         2\n",
       "Name: count, dtype: int64"
      ]
     },
     "execution_count": 9,
     "metadata": {},
     "output_type": "execute_result"
    }
   ],
   "source": [
    "sda = df['Шал:'].value_counts()\n",
    "sda"
   ]
  },
  {
   "cell_type": "code",
   "execution_count": 10,
   "metadata": {},
   "outputs": [
    {
     "name": "stderr",
     "output_type": "stream",
     "text": [
      "/var/folders/k5/d_ccjpd550q3sskv2xjl_mxc0000gn/T/ipykernel_21625/2518299628.py:4: FutureWarning: A value is trying to be set on a copy of a DataFrame or Series through chained assignment using an inplace method.\n",
      "The behavior will change in pandas 3.0. This inplace method will never work because the intermediate object on which we are setting values always behaves as a copy.\n",
      "\n",
      "For example, when doing 'df[col].method(value, inplace=True)', try using 'df.method({col: value}, inplace=True)' or df[col] = df[col].method(value) instead, to perform the operation inplace on the original object.\n",
      "\n",
      "\n",
      "  df['Шал:'].replace(other_windows, 'Бусад', inplace=True)\n"
     ]
    },
    {
     "data": {
      "text/plain": [
       "Шал:\n",
       "Паркет    5153\n",
       "Бусад      175\n",
       "Чулуу        2\n",
       "Name: count, dtype: int64"
      ]
     },
     "execution_count": 10,
     "metadata": {},
     "output_type": "execute_result"
    }
   ],
   "source": [
    "other_windows = ['Ламинат', 'Мод', 'Цемент', 'Плита']\n",
    "\n",
    "# consolidate into the 'Other' class\n",
    "df['Шал:'].replace(other_windows, 'Бусад', inplace=True)\n",
    "sda = df['Шал:'].value_counts()\n",
    "sda"
   ]
  },
  {
   "cell_type": "code",
   "execution_count": 11,
   "metadata": {},
   "outputs": [
    {
     "data": {
      "text/plain": [
       "Цонх:\n",
       "Вакум          5137\n",
       "Төмөр вакум     115\n",
       "Модон вакум      47\n",
       "Мод              31\n",
       "Name: count, dtype: int64"
      ]
     },
     "execution_count": 11,
     "metadata": {},
     "output_type": "execute_result"
    }
   ],
   "source": [
    "df['Цонх:'].value_counts()"
   ]
  },
  {
   "cell_type": "code",
   "execution_count": 12,
   "metadata": {},
   "outputs": [
    {
     "name": "stderr",
     "output_type": "stream",
     "text": [
      "/var/folders/k5/d_ccjpd550q3sskv2xjl_mxc0000gn/T/ipykernel_21625/2646499656.py:4: FutureWarning: A value is trying to be set on a copy of a DataFrame or Series through chained assignment using an inplace method.\n",
      "The behavior will change in pandas 3.0. This inplace method will never work because the intermediate object on which we are setting values always behaves as a copy.\n",
      "\n",
      "For example, when doing 'df[col].method(value, inplace=True)', try using 'df.method({col: value}, inplace=True)' or df[col] = df[col].method(value) instead, to perform the operation inplace on the original object.\n",
      "\n",
      "\n",
      "  df['Цонх:'].replace(other_windows, 'Бусад', inplace=True)\n"
     ]
    },
    {
     "data": {
      "text/plain": [
       "Цонх:\n",
       "Вакум    5137\n",
       "Бусад     193\n",
       "Name: count, dtype: int64"
      ]
     },
     "execution_count": 12,
     "metadata": {},
     "output_type": "execute_result"
    }
   ],
   "source": [
    "other_windows = ['Төмөр вакум', 'Модон вакум', 'Мод']\n",
    "\n",
    "# consolidate into the 'Other' class\n",
    "df['Цонх:'].replace(other_windows, 'Бусад', inplace=True)\n",
    "sda = df['Цонх:'].value_counts()\n",
    "sda"
   ]
  },
  {
   "cell_type": "markdown",
   "metadata": {},
   "source": [
    "## Remove Unused\n",
    "\n",
    "Remove unused or redundant columns from the table"
   ]
  },
  {
   "cell_type": "markdown",
   "metadata": {},
   "source": [
    "* Now given that we've created a new Property age feature we can remove property year feature."
   ]
  },
  {
   "cell_type": "code",
   "execution_count": 13,
   "metadata": {},
   "outputs": [
    {
     "data": {
      "text/html": [
       "<div>\n",
       "<style scoped>\n",
       "    .dataframe tbody tr th:only-of-type {\n",
       "        vertical-align: middle;\n",
       "    }\n",
       "\n",
       "    .dataframe tbody tr th {\n",
       "        vertical-align: top;\n",
       "    }\n",
       "\n",
       "    .dataframe thead th {\n",
       "        text-align: right;\n",
       "    }\n",
       "</style>\n",
       "<table border=\"1\" class=\"dataframe\">\n",
       "  <thead>\n",
       "    <tr style=\"text-align: right;\">\n",
       "      <th></th>\n",
       "      <th>үнэ</th>\n",
       "      <th>хаяг</th>\n",
       "      <th>Шал:</th>\n",
       "      <th>Тагт:</th>\n",
       "      <th>Гараж:</th>\n",
       "      <th>Цонх:</th>\n",
       "      <th>Барилгын давхар:</th>\n",
       "      <th>Хаалга:</th>\n",
       "      <th>Талбай:</th>\n",
       "      <th>Хэдэн давхарт:</th>\n",
       "      <th>Лизингээр авах боломж:</th>\n",
       "      <th>Цонхны тоо:</th>\n",
       "      <th>Барилгын явц:</th>\n",
       "      <th>Нас</th>\n",
       "      <th>Дүүрэг</th>\n",
       "    </tr>\n",
       "  </thead>\n",
       "  <tbody>\n",
       "    <tr>\n",
       "      <th>0</th>\n",
       "      <td>84.000</td>\n",
       "      <td>Viva city</td>\n",
       "      <td>Паркет</td>\n",
       "      <td>0</td>\n",
       "      <td>0</td>\n",
       "      <td>Вакум</td>\n",
       "      <td>5</td>\n",
       "      <td>Бүргэд</td>\n",
       "      <td>30.50</td>\n",
       "      <td>5</td>\n",
       "      <td>0</td>\n",
       "      <td>2</td>\n",
       "      <td>1</td>\n",
       "      <td>11</td>\n",
       "      <td>УБ — Хан-Уул</td>\n",
       "    </tr>\n",
       "    <tr>\n",
       "      <th>1</th>\n",
       "      <td>115.000</td>\n",
       "      <td>19-р хороолол</td>\n",
       "      <td>Паркет</td>\n",
       "      <td>1</td>\n",
       "      <td>0</td>\n",
       "      <td>Вакум</td>\n",
       "      <td>5</td>\n",
       "      <td>Бүргэд</td>\n",
       "      <td>16.00</td>\n",
       "      <td>5</td>\n",
       "      <td>0</td>\n",
       "      <td>2</td>\n",
       "      <td>1</td>\n",
       "      <td>34</td>\n",
       "      <td>УБ — Хан-Уул</td>\n",
       "    </tr>\n",
       "    <tr>\n",
       "      <th>2</th>\n",
       "      <td>510.000</td>\n",
       "      <td>Чингис зочид буудал</td>\n",
       "      <td>Паркет</td>\n",
       "      <td>1</td>\n",
       "      <td>0</td>\n",
       "      <td>Вакум</td>\n",
       "      <td>10</td>\n",
       "      <td>Бүргэд</td>\n",
       "      <td>150.00</td>\n",
       "      <td>10</td>\n",
       "      <td>0</td>\n",
       "      <td>5</td>\n",
       "      <td>1</td>\n",
       "      <td>14</td>\n",
       "      <td>УБ — Баянзүрх</td>\n",
       "    </tr>\n",
       "    <tr>\n",
       "      <th>3</th>\n",
       "      <td>107.946</td>\n",
       "      <td>Хан-Уул</td>\n",
       "      <td>Паркет</td>\n",
       "      <td>0</td>\n",
       "      <td>0</td>\n",
       "      <td>Вакум</td>\n",
       "      <td>12</td>\n",
       "      <td>Бусад</td>\n",
       "      <td>39.98</td>\n",
       "      <td>2</td>\n",
       "      <td>0</td>\n",
       "      <td>2</td>\n",
       "      <td>1</td>\n",
       "      <td>3</td>\n",
       "      <td>УБ — Хан-Уул</td>\n",
       "    </tr>\n",
       "    <tr>\n",
       "      <th>4</th>\n",
       "      <td>521.370</td>\n",
       "      <td>Баянзүрх</td>\n",
       "      <td>Паркет</td>\n",
       "      <td>2</td>\n",
       "      <td>1</td>\n",
       "      <td>Вакум</td>\n",
       "      <td>16</td>\n",
       "      <td>Бүргэд</td>\n",
       "      <td>115.86</td>\n",
       "      <td>7</td>\n",
       "      <td>0</td>\n",
       "      <td>5</td>\n",
       "      <td>1</td>\n",
       "      <td>8</td>\n",
       "      <td>УБ — Баянзүрх</td>\n",
       "    </tr>\n",
       "  </tbody>\n",
       "</table>\n",
       "</div>"
      ],
      "text/plain": [
       "       үнэ                 хаяг    Шал:  Тагт:  Гараж:  Цонх:  \\\n",
       "0   84.000            Viva city  Паркет      0       0  Вакум   \n",
       "1  115.000        19-р хороолол  Паркет      1       0  Вакум   \n",
       "2  510.000  Чингис зочид буудал  Паркет      1       0  Вакум   \n",
       "3  107.946              Хан-Уул  Паркет      0       0  Вакум   \n",
       "4  521.370             Баянзүрх  Паркет      2       1  Вакум   \n",
       "\n",
       "   Барилгын давхар: Хаалга:  Талбай:  Хэдэн давхарт:  Лизингээр авах боломж:  \\\n",
       "0                 5  Бүргэд    30.50               5                       0   \n",
       "1                 5  Бүргэд    16.00               5                       0   \n",
       "2                10  Бүргэд   150.00              10                       0   \n",
       "3                12   Бусад    39.98               2                       0   \n",
       "4                16  Бүргэд   115.86               7                       0   \n",
       "\n",
       "   Цонхны тоо:  Барилгын явц:  Нас         Дүүрэг  \n",
       "0            2              1   11   УБ — Хан-Уул  \n",
       "1            2              1   34   УБ — Хан-Уул  \n",
       "2            5              1   14  УБ — Баянзүрх  \n",
       "3            2              1    3   УБ — Хан-Уул  \n",
       "4            5              1    8  УБ — Баянзүрх  "
      ]
     },
     "execution_count": 13,
     "metadata": {},
     "output_type": "execute_result"
    }
   ],
   "source": [
    "df = df.drop(columns=['Ашиглалтанд орсон он:'])\n",
    "df.head()"
   ]
  },
  {
   "cell_type": "markdown",
   "metadata": {},
   "source": [
    "## Do one-hot encoder for categorical values"
   ]
  },
  {
   "cell_type": "code",
   "execution_count": 14,
   "metadata": {},
   "outputs": [
    {
     "data": {
      "text/plain": [
       "array(['Вакум', 'Бусад'], dtype=object)"
      ]
     },
     "execution_count": 14,
     "metadata": {},
     "output_type": "execute_result"
    }
   ],
   "source": [
    "df['Цонх:'].unique()"
   ]
  },
  {
   "cell_type": "code",
   "execution_count": 15,
   "metadata": {},
   "outputs": [
    {
     "data": {
      "text/html": [
       "<div>\n",
       "<style scoped>\n",
       "    .dataframe tbody tr th:only-of-type {\n",
       "        vertical-align: middle;\n",
       "    }\n",
       "\n",
       "    .dataframe tbody tr th {\n",
       "        vertical-align: top;\n",
       "    }\n",
       "\n",
       "    .dataframe thead th {\n",
       "        text-align: right;\n",
       "    }\n",
       "</style>\n",
       "<table border=\"1\" class=\"dataframe\">\n",
       "  <thead>\n",
       "    <tr style=\"text-align: right;\">\n",
       "      <th></th>\n",
       "      <th>Дүүрэг_Архангай</th>\n",
       "      <th>Дүүрэг_Дархан-Уул</th>\n",
       "      <th>Дүүрэг_Дорноговь</th>\n",
       "      <th>Дүүрэг_Дорнод</th>\n",
       "      <th>Дүүрэг_Орхон</th>\n",
       "      <th>Дүүрэг_Сүхбаатар</th>\n",
       "      <th>Дүүрэг_Төв</th>\n",
       "      <th>Дүүрэг_УБ — Багануур</th>\n",
       "      <th>Дүүрэг_УБ — Баянгол</th>\n",
       "      <th>Дүүрэг_УБ — Баянзүрх</th>\n",
       "      <th>Дүүрэг_УБ — Налайх</th>\n",
       "      <th>Дүүрэг_УБ — Сонгинохайрхан</th>\n",
       "      <th>Дүүрэг_УБ — Сүхбаатар</th>\n",
       "      <th>Дүүрэг_УБ — Хан-Уул</th>\n",
       "      <th>Дүүрэг_УБ — Чингэлтэй</th>\n",
       "    </tr>\n",
       "  </thead>\n",
       "  <tbody>\n",
       "    <tr>\n",
       "      <th>0</th>\n",
       "      <td>False</td>\n",
       "      <td>False</td>\n",
       "      <td>False</td>\n",
       "      <td>False</td>\n",
       "      <td>False</td>\n",
       "      <td>False</td>\n",
       "      <td>False</td>\n",
       "      <td>False</td>\n",
       "      <td>False</td>\n",
       "      <td>False</td>\n",
       "      <td>False</td>\n",
       "      <td>False</td>\n",
       "      <td>False</td>\n",
       "      <td>True</td>\n",
       "      <td>False</td>\n",
       "    </tr>\n",
       "    <tr>\n",
       "      <th>1</th>\n",
       "      <td>False</td>\n",
       "      <td>False</td>\n",
       "      <td>False</td>\n",
       "      <td>False</td>\n",
       "      <td>False</td>\n",
       "      <td>False</td>\n",
       "      <td>False</td>\n",
       "      <td>False</td>\n",
       "      <td>False</td>\n",
       "      <td>False</td>\n",
       "      <td>False</td>\n",
       "      <td>False</td>\n",
       "      <td>False</td>\n",
       "      <td>True</td>\n",
       "      <td>False</td>\n",
       "    </tr>\n",
       "    <tr>\n",
       "      <th>2</th>\n",
       "      <td>False</td>\n",
       "      <td>False</td>\n",
       "      <td>False</td>\n",
       "      <td>False</td>\n",
       "      <td>False</td>\n",
       "      <td>False</td>\n",
       "      <td>False</td>\n",
       "      <td>False</td>\n",
       "      <td>False</td>\n",
       "      <td>True</td>\n",
       "      <td>False</td>\n",
       "      <td>False</td>\n",
       "      <td>False</td>\n",
       "      <td>False</td>\n",
       "      <td>False</td>\n",
       "    </tr>\n",
       "    <tr>\n",
       "      <th>3</th>\n",
       "      <td>False</td>\n",
       "      <td>False</td>\n",
       "      <td>False</td>\n",
       "      <td>False</td>\n",
       "      <td>False</td>\n",
       "      <td>False</td>\n",
       "      <td>False</td>\n",
       "      <td>False</td>\n",
       "      <td>False</td>\n",
       "      <td>False</td>\n",
       "      <td>False</td>\n",
       "      <td>False</td>\n",
       "      <td>False</td>\n",
       "      <td>True</td>\n",
       "      <td>False</td>\n",
       "    </tr>\n",
       "    <tr>\n",
       "      <th>4</th>\n",
       "      <td>False</td>\n",
       "      <td>False</td>\n",
       "      <td>False</td>\n",
       "      <td>False</td>\n",
       "      <td>False</td>\n",
       "      <td>False</td>\n",
       "      <td>False</td>\n",
       "      <td>False</td>\n",
       "      <td>False</td>\n",
       "      <td>True</td>\n",
       "      <td>False</td>\n",
       "      <td>False</td>\n",
       "      <td>False</td>\n",
       "      <td>False</td>\n",
       "      <td>False</td>\n",
       "    </tr>\n",
       "  </tbody>\n",
       "</table>\n",
       "</div>"
      ],
      "text/plain": [
       "   Дүүрэг_Архангай  Дүүрэг_Дархан-Уул  Дүүрэг_Дорноговь  Дүүрэг_Дорнод  \\\n",
       "0            False              False             False          False   \n",
       "1            False              False             False          False   \n",
       "2            False              False             False          False   \n",
       "3            False              False             False          False   \n",
       "4            False              False             False          False   \n",
       "\n",
       "   Дүүрэг_Орхон  Дүүрэг_Сүхбаатар  Дүүрэг_Төв  Дүүрэг_УБ — Багануур  \\\n",
       "0         False             False       False                 False   \n",
       "1         False             False       False                 False   \n",
       "2         False             False       False                 False   \n",
       "3         False             False       False                 False   \n",
       "4         False             False       False                 False   \n",
       "\n",
       "   Дүүрэг_УБ — Баянгол  Дүүрэг_УБ — Баянзүрх  Дүүрэг_УБ — Налайх  \\\n",
       "0                False                 False               False   \n",
       "1                False                 False               False   \n",
       "2                False                  True               False   \n",
       "3                False                 False               False   \n",
       "4                False                  True               False   \n",
       "\n",
       "   Дүүрэг_УБ — Сонгинохайрхан  Дүүрэг_УБ — Сүхбаатар  Дүүрэг_УБ — Хан-Уул  \\\n",
       "0                       False                  False                 True   \n",
       "1                       False                  False                 True   \n",
       "2                       False                  False                False   \n",
       "3                       False                  False                 True   \n",
       "4                       False                  False                False   \n",
       "\n",
       "   Дүүрэг_УБ — Чингэлтэй  \n",
       "0                  False  \n",
       "1                  False  \n",
       "2                  False  \n",
       "3                  False  \n",
       "4                  False  "
      ]
     },
     "execution_count": 15,
     "metadata": {},
     "output_type": "execute_result"
    }
   ],
   "source": [
    "df = pd.get_dummies(df, columns=['Цонх:', 'Дүүрэг', 'Хаалга:', 'Шал:'])\n",
    "df.filter(like='Дүүрэг').head(5)"
   ]
  },
  {
   "cell_type": "code",
   "execution_count": 16,
   "metadata": {},
   "outputs": [],
   "source": [
    "df.to_csv('training_data.csv')"
   ]
  }
 ],
 "metadata": {
  "kernelspec": {
   "display_name": "Python 3",
   "language": "python",
   "name": "python3"
  },
  "language_info": {
   "codemirror_mode": {
    "name": "ipython",
    "version": 3
   },
   "file_extension": ".py",
   "mimetype": "text/x-python",
   "name": "python",
   "nbconvert_exporter": "python",
   "pygments_lexer": "ipython3",
   "version": "3.11.0"
  }
 },
 "nbformat": 4,
 "nbformat_minor": 2
}
